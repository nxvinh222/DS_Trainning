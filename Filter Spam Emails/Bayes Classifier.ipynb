{
 "cells": [
  {
   "cell_type": "markdown",
   "metadata": {},
   "source": [
    "# Notebook Imports"
   ]
  },
  {
   "cell_type": "code",
   "execution_count": 1,
   "metadata": {},
   "outputs": [],
   "source": [
    "from os import walk\n",
    "from os.path import join\n",
    "\n",
    "import pandas as pd\n",
    "import matplotlib.pyplot as plt\n",
    "\n",
    "import nltk\n",
    "from nltk.stem import PorterStemmer\n",
    "from nltk.corpus import stopwords\n",
    "from nltk.tokenize import word_tokenize\n",
    "\n",
    "from bs4 import BeautifulSoup\n",
    "\n",
    "%matplotlib inline"
   ]
  },
  {
   "cell_type": "markdown",
   "metadata": {},
   "source": [
    "# Constants"
   ]
  },
  {
   "cell_type": "code",
   "execution_count": 2,
   "metadata": {},
   "outputs": [],
   "source": [
    "EXAMPLE_FILE = 'Data/SpamData/01_Processing/practice_email.txt'\n",
    "\n",
    "SPAM_1_PATH = 'Data/SpamData/01_Processing/spam_assassin_corpus/spam_1'\n",
    "SPAM_2_PATH = 'Data/SpamData/01_Processing/spam_assassin_corpus/spam_2'\n",
    "EASY_NONSPAM_1_PATH = 'Data/SpamData/01_Processing/spam_assassin_corpus/easy_ham_1'\n",
    "EASY_NONSPAM_2_PATH = 'Data/SpamData/01_Processing/spam_assassin_corpus/easy_ham_2'\n",
    "\n",
    "SPAM_CAT = 1\n",
    "HAM_CAT = 0\n",
    "\n",
    "DATA_JSON_FILE = 'Data/SpamData/01_Processing/email-text-data.json'"
   ]
  },
  {
   "cell_type": "code",
   "execution_count": 3,
   "metadata": {},
   "outputs": [],
   "source": [
    "stream = open(EXAMPLE_FILE)\n",
    "message = stream.read()\n",
    "stream.close()\n",
    "\n",
    "# print(message)"
   ]
  },
  {
   "cell_type": "code",
   "execution_count": 4,
   "metadata": {},
   "outputs": [
    {
     "data": {
      "text/plain": [
       "'utf-8'"
      ]
     },
     "execution_count": 4,
     "metadata": {},
     "output_type": "execute_result"
    }
   ],
   "source": [
    "import sys\n",
    "sys.getfilesystemencoding()"
   ]
  },
  {
   "cell_type": "code",
   "execution_count": null,
   "metadata": {},
   "outputs": [],
   "source": []
  },
  {
   "cell_type": "code",
   "execution_count": 5,
   "metadata": {},
   "outputs": [
    {
     "name": "stdout",
     "output_type": "stream",
     "text": [
      "\n",
      "\n",
      "Dear Mr Still\n",
      "\n",
      "\n",
      "\n",
      "Good tidings to you and all your staff for the festive season ahead (Christmas).\n",
      "\n",
      "Now to the crux of the matter-in-hand: I am a fully qualified Santa Claus and am wondering whether you might consider me to run my own \"Santa's Grotto\" in your store.\n",
      "\n",
      "But WAIT! You're probably thinking: \"What makes him so special?\"\n",
      "\n",
      "Well, first of all, I have made several changes to the characterisation of Father Christmas. Rather than greeting the children with shouts of \"Ho, ho, ho!\" I prefer to whisper the phrase \"Dependence is not unfathomable in this cruel world we live in\". In addition, my gifts are ALL hand-made, ranging from felt hoops to vanilla-pod holders.\n",
      "\n",
      "You will note also, from the enclosed sketch, that I have radically redesigned Santa's outfit and have renamed my character \"Lord Buckles\". Would you be interested in employing me? I promise NEVER to let you down.\n",
      "\n",
      "I look forward to hearing from you.\n",
      "\n",
      "\n",
      "\n",
      "Best wishes\n",
      "\n",
      "Robin Cooper\n",
      "\n",
      "[Excerpt from the book: The Timewaster Letters by Robin Cooper]\n",
      "\n"
     ]
    }
   ],
   "source": [
    "stream = open(EXAMPLE_FILE)\n",
    "\n",
    "is_body = False\n",
    "lines = []\n",
    "\n",
    "for line in stream:\n",
    "    if is_body:\n",
    "        lines.append(line)\n",
    "    elif line == '\\n':\n",
    "        is_body = True\n",
    "\n",
    "stream.close()\n",
    "\n",
    "email_body = '\\n'.join(lines)\n",
    "print(email_body)\n"
   ]
  },
  {
   "cell_type": "markdown",
   "metadata": {},
   "source": [
    "# Generator Functions"
   ]
  },
  {
   "cell_type": "code",
   "execution_count": 6,
   "metadata": {},
   "outputs": [],
   "source": [
    "def generator_squares(N):\n",
    "    for my_number in range(N):\n",
    "        yield my_number**3"
   ]
  },
  {
   "cell_type": "code",
   "execution_count": 7,
   "metadata": {},
   "outputs": [
    {
     "name": "stdout",
     "output_type": "stream",
     "text": [
      "0\n",
      "1\n",
      "8\n"
     ]
    }
   ],
   "source": [
    "for i in generator_squares(3):\n",
    "    print(i)"
   ]
  },
  {
   "cell_type": "markdown",
   "metadata": {},
   "source": [
    "# Emails body Extractor"
   ]
  },
  {
   "cell_type": "code",
   "execution_count": 8,
   "metadata": {},
   "outputs": [],
   "source": [
    "def email_body_generator(path):\n",
    "    for root, dirnames, filenames in walk(path):\n",
    "        for filename in filenames:\n",
    "            \n",
    "            filepath = join(root, filename)\n",
    "            stream = open(filepath, encoding='latin-1')\n",
    "\n",
    "            is_body = False\n",
    "            lines = []\n",
    "\n",
    "            for line in stream:\n",
    "                if is_body:\n",
    "                    lines.append(line)\n",
    "                elif line == '\\n':\n",
    "                    is_body = True\n",
    "\n",
    "            stream.close()\n",
    "\n",
    "            email_body = '\\n'.join(lines)\n",
    "            yield filename, email_body"
   ]
  },
  {
   "cell_type": "code",
   "execution_count": 9,
   "metadata": {},
   "outputs": [],
   "source": [
    "def df_from_directory (path, classification):\n",
    "    rows = []\n",
    "    row_names = []\n",
    "    \n",
    "    for filename, email_body in email_body_generator(path):\n",
    "        rows.append({'MESSAGE': email_body, 'CATEGORY': classification})\n",
    "        row_names.append(filename)\n",
    "        \n",
    "    return pd.DataFrame(rows, index=row_names)"
   ]
  },
  {
   "cell_type": "code",
   "execution_count": 10,
   "metadata": {},
   "outputs": [],
   "source": [
    "spam_emails = df_from_directory(SPAM_1_PATH, SPAM_CAT)\n",
    "spam_emails = spam_emails.append(df_from_directory(SPAM_2_PATH, SPAM_CAT))"
   ]
  },
  {
   "cell_type": "code",
   "execution_count": 11,
   "metadata": {},
   "outputs": [],
   "source": [
    "ham_emails = df_from_directory(EASY_NONSPAM_1_PATH, HAM_CAT)\n",
    "ham_emails = ham_emails.append(df_from_directory(EASY_NONSPAM_2_PATH, HAM_CAT))"
   ]
  },
  {
   "cell_type": "code",
   "execution_count": 12,
   "metadata": {},
   "outputs": [
    {
     "name": "stdout",
     "output_type": "stream",
     "text": [
      "(1898, 2)\n",
      "(3901, 2)\n"
     ]
    }
   ],
   "source": [
    "print(spam_emails.shape)\n",
    "print(ham_emails.shape)"
   ]
  },
  {
   "cell_type": "code",
   "execution_count": 13,
   "metadata": {},
   "outputs": [
    {
     "name": "stdout",
     "output_type": "stream",
     "text": [
      "Shape of data is: (5799, 2)\n"
     ]
    },
    {
     "data": {
      "text/html": [
       "<div>\n",
       "<style scoped>\n",
       "    .dataframe tbody tr th:only-of-type {\n",
       "        vertical-align: middle;\n",
       "    }\n",
       "\n",
       "    .dataframe tbody tr th {\n",
       "        vertical-align: top;\n",
       "    }\n",
       "\n",
       "    .dataframe thead th {\n",
       "        text-align: right;\n",
       "    }\n",
       "</style>\n",
       "<table border=\"1\" class=\"dataframe\">\n",
       "  <thead>\n",
       "    <tr style=\"text-align: right;\">\n",
       "      <th></th>\n",
       "      <th>CATEGORY</th>\n",
       "      <th>MESSAGE</th>\n",
       "    </tr>\n",
       "  </thead>\n",
       "  <tbody>\n",
       "    <tr>\n",
       "      <th>00001.7848dde101aa985090474a91ec93fcf0</th>\n",
       "      <td>1</td>\n",
       "      <td>&lt;!DOCTYPE HTML PUBLIC \"-//W3C//DTD HTML 4.0 Tr...</td>\n",
       "    </tr>\n",
       "    <tr>\n",
       "      <th>00002.d94f1b97e48ed3b553b3508d116e6a09</th>\n",
       "      <td>1</td>\n",
       "      <td>1) Fight The Risk of Cancer!\\n\\nhttp://www.adc...</td>\n",
       "    </tr>\n",
       "    <tr>\n",
       "      <th>00003.2ee33bc6eacdb11f38d052c44819ba6c</th>\n",
       "      <td>1</td>\n",
       "      <td>1) Fight The Risk of Cancer!\\n\\nhttp://www.adc...</td>\n",
       "    </tr>\n",
       "    <tr>\n",
       "      <th>00004.eac8de8d759b7e74154f142194282724</th>\n",
       "      <td>1</td>\n",
       "      <td>##############################################...</td>\n",
       "    </tr>\n",
       "    <tr>\n",
       "      <th>00005.57696a39d7d84318ce497886896bf90d</th>\n",
       "      <td>1</td>\n",
       "      <td>I thought you might like these:\\n\\n1) Slim Dow...</td>\n",
       "    </tr>\n",
       "  </tbody>\n",
       "</table>\n",
       "</div>"
      ],
      "text/plain": [
       "                                        CATEGORY  \\\n",
       "00001.7848dde101aa985090474a91ec93fcf0         1   \n",
       "00002.d94f1b97e48ed3b553b3508d116e6a09         1   \n",
       "00003.2ee33bc6eacdb11f38d052c44819ba6c         1   \n",
       "00004.eac8de8d759b7e74154f142194282724         1   \n",
       "00005.57696a39d7d84318ce497886896bf90d         1   \n",
       "\n",
       "                                                                                  MESSAGE  \n",
       "00001.7848dde101aa985090474a91ec93fcf0  <!DOCTYPE HTML PUBLIC \"-//W3C//DTD HTML 4.0 Tr...  \n",
       "00002.d94f1b97e48ed3b553b3508d116e6a09  1) Fight The Risk of Cancer!\\n\\nhttp://www.adc...  \n",
       "00003.2ee33bc6eacdb11f38d052c44819ba6c  1) Fight The Risk of Cancer!\\n\\nhttp://www.adc...  \n",
       "00004.eac8de8d759b7e74154f142194282724  ##############################################...  \n",
       "00005.57696a39d7d84318ce497886896bf90d  I thought you might like these:\\n\\n1) Slim Dow...  "
      ]
     },
     "execution_count": 13,
     "metadata": {},
     "output_type": "execute_result"
    }
   ],
   "source": [
    "data = pd.concat([spam_emails, ham_emails])\n",
    "print('Shape of data is:', data.shape)\n",
    "data.head()\n"
   ]
  },
  {
   "cell_type": "markdown",
   "metadata": {},
   "source": [
    "# Data Cleaning: Checking for Missing Values"
   ]
  },
  {
   "cell_type": "code",
   "execution_count": 14,
   "metadata": {},
   "outputs": [
    {
     "data": {
      "text/plain": [
       "False"
      ]
     },
     "execution_count": 14,
     "metadata": {},
     "output_type": "execute_result"
    }
   ],
   "source": [
    "# Check for null emails\n",
    "# data.MESSAGE\n",
    "data['MESSAGE'].isnull().values.any()"
   ]
  },
  {
   "cell_type": "code",
   "execution_count": 15,
   "metadata": {},
   "outputs": [
    {
     "data": {
      "text/plain": [
       "0"
      ]
     },
     "execution_count": 15,
     "metadata": {},
     "output_type": "execute_result"
    }
   ],
   "source": [
    "data['MESSAGE'].isnull().sum()"
   ]
  },
  {
   "cell_type": "code",
   "execution_count": 16,
   "metadata": {},
   "outputs": [
    {
     "data": {
      "text/plain": [
       "True"
      ]
     },
     "execution_count": 16,
     "metadata": {},
     "output_type": "execute_result"
    }
   ],
   "source": [
    "# Check if there are empty emails\n",
    "(data.MESSAGE.str.len() == 0).any()"
   ]
  },
  {
   "cell_type": "code",
   "execution_count": 17,
   "metadata": {},
   "outputs": [
    {
     "data": {
      "text/plain": [
       "3"
      ]
     },
     "execution_count": 17,
     "metadata": {},
     "output_type": "execute_result"
    }
   ],
   "source": [
    "(data.MESSAGE.str.len() == 0).sum()"
   ]
  },
  {
   "cell_type": "code",
   "execution_count": 18,
   "metadata": {},
   "outputs": [
    {
     "data": {
      "text/html": [
       "<div>\n",
       "<style scoped>\n",
       "    .dataframe tbody tr th:only-of-type {\n",
       "        vertical-align: middle;\n",
       "    }\n",
       "\n",
       "    .dataframe tbody tr th {\n",
       "        vertical-align: top;\n",
       "    }\n",
       "\n",
       "    .dataframe thead th {\n",
       "        text-align: right;\n",
       "    }\n",
       "</style>\n",
       "<table border=\"1\" class=\"dataframe\">\n",
       "  <thead>\n",
       "    <tr style=\"text-align: right;\">\n",
       "      <th></th>\n",
       "      <th>CATEGORY</th>\n",
       "      <th>MESSAGE</th>\n",
       "    </tr>\n",
       "  </thead>\n",
       "  <tbody>\n",
       "    <tr>\n",
       "      <th>cmds</th>\n",
       "      <td>1</td>\n",
       "      <td></td>\n",
       "    </tr>\n",
       "    <tr>\n",
       "      <th>cmds</th>\n",
       "      <td>1</td>\n",
       "      <td></td>\n",
       "    </tr>\n",
       "    <tr>\n",
       "      <th>cmds</th>\n",
       "      <td>0</td>\n",
       "      <td></td>\n",
       "    </tr>\n",
       "  </tbody>\n",
       "</table>\n",
       "</div>"
      ],
      "text/plain": [
       "      CATEGORY MESSAGE\n",
       "cmds         1        \n",
       "cmds         1        \n",
       "cmds         0        "
      ]
     },
     "execution_count": 18,
     "metadata": {},
     "output_type": "execute_result"
    }
   ],
   "source": [
    "data[data.MESSAGE.str.len() == 0]"
   ]
  },
  {
   "cell_type": "code",
   "execution_count": 19,
   "metadata": {},
   "outputs": [
    {
     "data": {
      "text/plain": [
       "Index(['cmds', 'cmds', 'cmds'], dtype='object')"
      ]
     },
     "execution_count": 19,
     "metadata": {},
     "output_type": "execute_result"
    }
   ],
   "source": [
    "data[data.MESSAGE.str.len() == 0].index"
   ]
  },
  {
   "cell_type": "code",
   "execution_count": 20,
   "metadata": {},
   "outputs": [
    {
     "data": {
      "text/plain": [
       "array([False, False, False, ..., False, False, False])"
      ]
     },
     "execution_count": 20,
     "metadata": {},
     "output_type": "execute_result"
    }
   ],
   "source": [
    "data.index.get_loc('cmds')"
   ]
  },
  {
   "cell_type": "markdown",
   "metadata": {},
   "source": [
    "# Remove System File Entries from DataFrame"
   ]
  },
  {
   "cell_type": "code",
   "execution_count": 21,
   "metadata": {},
   "outputs": [],
   "source": [
    "data.drop(['cmds'], inplace=True)"
   ]
  },
  {
   "cell_type": "code",
   "execution_count": 22,
   "metadata": {},
   "outputs": [
    {
     "data": {
      "text/plain": [
       "0"
      ]
     },
     "execution_count": 22,
     "metadata": {},
     "output_type": "execute_result"
    }
   ],
   "source": [
    "(data.MESSAGE.str.len() == 0).sum()"
   ]
  },
  {
   "cell_type": "code",
   "execution_count": 23,
   "metadata": {},
   "outputs": [
    {
     "data": {
      "text/plain": [
       "(5796, 2)"
      ]
     },
     "execution_count": 23,
     "metadata": {},
     "output_type": "execute_result"
    }
   ],
   "source": [
    "data.shape"
   ]
  },
  {
   "cell_type": "markdown",
   "metadata": {},
   "source": [
    "# Add Document IDs to Track Emails in Dataset"
   ]
  },
  {
   "cell_type": "code",
   "execution_count": 24,
   "metadata": {},
   "outputs": [],
   "source": [
    "document_ids = range(0, len(data.index))\n",
    "data['DOC_ID'] = document_ids"
   ]
  },
  {
   "cell_type": "code",
   "execution_count": 25,
   "metadata": {},
   "outputs": [
    {
     "data": {
      "text/html": [
       "<div>\n",
       "<style scoped>\n",
       "    .dataframe tbody tr th:only-of-type {\n",
       "        vertical-align: middle;\n",
       "    }\n",
       "\n",
       "    .dataframe tbody tr th {\n",
       "        vertical-align: top;\n",
       "    }\n",
       "\n",
       "    .dataframe thead th {\n",
       "        text-align: right;\n",
       "    }\n",
       "</style>\n",
       "<table border=\"1\" class=\"dataframe\">\n",
       "  <thead>\n",
       "    <tr style=\"text-align: right;\">\n",
       "      <th></th>\n",
       "      <th>CATEGORY</th>\n",
       "      <th>MESSAGE</th>\n",
       "      <th>FILE_NAME</th>\n",
       "    </tr>\n",
       "    <tr>\n",
       "      <th>DOC_ID</th>\n",
       "      <th></th>\n",
       "      <th></th>\n",
       "      <th></th>\n",
       "    </tr>\n",
       "  </thead>\n",
       "  <tbody>\n",
       "    <tr>\n",
       "      <th>0</th>\n",
       "      <td>1</td>\n",
       "      <td>&lt;!DOCTYPE HTML PUBLIC \"-//W3C//DTD HTML 4.0 Tr...</td>\n",
       "      <td>00001.7848dde101aa985090474a91ec93fcf0</td>\n",
       "    </tr>\n",
       "    <tr>\n",
       "      <th>1</th>\n",
       "      <td>1</td>\n",
       "      <td>1) Fight The Risk of Cancer!\\n\\nhttp://www.adc...</td>\n",
       "      <td>00002.d94f1b97e48ed3b553b3508d116e6a09</td>\n",
       "    </tr>\n",
       "    <tr>\n",
       "      <th>2</th>\n",
       "      <td>1</td>\n",
       "      <td>1) Fight The Risk of Cancer!\\n\\nhttp://www.adc...</td>\n",
       "      <td>00003.2ee33bc6eacdb11f38d052c44819ba6c</td>\n",
       "    </tr>\n",
       "    <tr>\n",
       "      <th>3</th>\n",
       "      <td>1</td>\n",
       "      <td>##############################################...</td>\n",
       "      <td>00004.eac8de8d759b7e74154f142194282724</td>\n",
       "    </tr>\n",
       "    <tr>\n",
       "      <th>4</th>\n",
       "      <td>1</td>\n",
       "      <td>I thought you might like these:\\n\\n1) Slim Dow...</td>\n",
       "      <td>00005.57696a39d7d84318ce497886896bf90d</td>\n",
       "    </tr>\n",
       "  </tbody>\n",
       "</table>\n",
       "</div>"
      ],
      "text/plain": [
       "        CATEGORY                                            MESSAGE  \\\n",
       "DOC_ID                                                                \n",
       "0              1  <!DOCTYPE HTML PUBLIC \"-//W3C//DTD HTML 4.0 Tr...   \n",
       "1              1  1) Fight The Risk of Cancer!\\n\\nhttp://www.adc...   \n",
       "2              1  1) Fight The Risk of Cancer!\\n\\nhttp://www.adc...   \n",
       "3              1  ##############################################...   \n",
       "4              1  I thought you might like these:\\n\\n1) Slim Dow...   \n",
       "\n",
       "                                     FILE_NAME  \n",
       "DOC_ID                                          \n",
       "0       00001.7848dde101aa985090474a91ec93fcf0  \n",
       "1       00002.d94f1b97e48ed3b553b3508d116e6a09  \n",
       "2       00003.2ee33bc6eacdb11f38d052c44819ba6c  \n",
       "3       00004.eac8de8d759b7e74154f142194282724  \n",
       "4       00005.57696a39d7d84318ce497886896bf90d  "
      ]
     },
     "execution_count": 25,
     "metadata": {},
     "output_type": "execute_result"
    }
   ],
   "source": [
    "data['FILE_NAME'] = data.index\n",
    "data.set_index('DOC_ID', inplace=True)\n",
    "\n",
    "data.head()"
   ]
  },
  {
   "cell_type": "code",
   "execution_count": 26,
   "metadata": {},
   "outputs": [
    {
     "data": {
      "text/html": [
       "<div>\n",
       "<style scoped>\n",
       "    .dataframe tbody tr th:only-of-type {\n",
       "        vertical-align: middle;\n",
       "    }\n",
       "\n",
       "    .dataframe tbody tr th {\n",
       "        vertical-align: top;\n",
       "    }\n",
       "\n",
       "    .dataframe thead th {\n",
       "        text-align: right;\n",
       "    }\n",
       "</style>\n",
       "<table border=\"1\" class=\"dataframe\">\n",
       "  <thead>\n",
       "    <tr style=\"text-align: right;\">\n",
       "      <th></th>\n",
       "      <th>CATEGORY</th>\n",
       "      <th>MESSAGE</th>\n",
       "      <th>FILE_NAME</th>\n",
       "    </tr>\n",
       "    <tr>\n",
       "      <th>DOC_ID</th>\n",
       "      <th></th>\n",
       "      <th></th>\n",
       "      <th></th>\n",
       "    </tr>\n",
       "  </thead>\n",
       "  <tbody>\n",
       "    <tr>\n",
       "      <th>5791</th>\n",
       "      <td>0</td>\n",
       "      <td>http://news.bbc.co.uk/1/hi/england/2515127.stm...</td>\n",
       "      <td>01396.61983fbe6ec43f55fd44e30fce24ffa6</td>\n",
       "    </tr>\n",
       "    <tr>\n",
       "      <th>5792</th>\n",
       "      <td>0</td>\n",
       "      <td>&gt; &gt;-- be careful when using this one.) Also, t...</td>\n",
       "      <td>01397.9f9ef4c2a8dc012d80f2ce2d3473d3b7</td>\n",
       "    </tr>\n",
       "    <tr>\n",
       "      <th>5793</th>\n",
       "      <td>0</td>\n",
       "      <td>&gt;&gt;&gt;&gt;&gt; \"SM\" == Skip Montanaro &lt;skip@pobox.com&gt; ...</td>\n",
       "      <td>01398.169b51731fe569f42169ae8f948ec676</td>\n",
       "    </tr>\n",
       "    <tr>\n",
       "      <th>5794</th>\n",
       "      <td>0</td>\n",
       "      <td>So then, \"Mark Hammond\" &lt;mhammond@skippinet.co...</td>\n",
       "      <td>01399.ca6b00b7b341bbde9a9ea3dd6a7bf896</td>\n",
       "    </tr>\n",
       "    <tr>\n",
       "      <th>5795</th>\n",
       "      <td>0</td>\n",
       "      <td>Hi there,\\n\\n\\n\\nNow this is probably of no us...</td>\n",
       "      <td>01400.f897f0931e461e7b2e964d28e927c35e</td>\n",
       "    </tr>\n",
       "  </tbody>\n",
       "</table>\n",
       "</div>"
      ],
      "text/plain": [
       "        CATEGORY                                            MESSAGE  \\\n",
       "DOC_ID                                                                \n",
       "5791           0  http://news.bbc.co.uk/1/hi/england/2515127.stm...   \n",
       "5792           0  > >-- be careful when using this one.) Also, t...   \n",
       "5793           0  >>>>> \"SM\" == Skip Montanaro <skip@pobox.com> ...   \n",
       "5794           0  So then, \"Mark Hammond\" <mhammond@skippinet.co...   \n",
       "5795           0  Hi there,\\n\\n\\n\\nNow this is probably of no us...   \n",
       "\n",
       "                                     FILE_NAME  \n",
       "DOC_ID                                          \n",
       "5791    01396.61983fbe6ec43f55fd44e30fce24ffa6  \n",
       "5792    01397.9f9ef4c2a8dc012d80f2ce2d3473d3b7  \n",
       "5793    01398.169b51731fe569f42169ae8f948ec676  \n",
       "5794    01399.ca6b00b7b341bbde9a9ea3dd6a7bf896  \n",
       "5795    01400.f897f0931e461e7b2e964d28e927c35e  "
      ]
     },
     "execution_count": 26,
     "metadata": {},
     "output_type": "execute_result"
    }
   ],
   "source": [
    "data.tail()"
   ]
  },
  {
   "cell_type": "markdown",
   "metadata": {},
   "source": [
    "# Save data to JSON file"
   ]
  },
  {
   "cell_type": "code",
   "execution_count": 27,
   "metadata": {},
   "outputs": [],
   "source": [
    "data.to_json(DATA_JSON_FILE)"
   ]
  },
  {
   "cell_type": "markdown",
   "metadata": {},
   "source": [
    "# Number of Spam Messages Visualized (Pie Charts)"
   ]
  },
  {
   "cell_type": "code",
   "execution_count": 28,
   "metadata": {},
   "outputs": [
    {
     "data": {
      "text/plain": [
       "0    3900\n",
       "1    1896\n",
       "Name: CATEGORY, dtype: int64"
      ]
     },
     "execution_count": 28,
     "metadata": {},
     "output_type": "execute_result"
    }
   ],
   "source": [
    "data.CATEGORY.value_counts()"
   ]
  },
  {
   "cell_type": "code",
   "execution_count": 29,
   "metadata": {},
   "outputs": [],
   "source": [
    "amount_of_spam = data.CATEGORY.value_counts()[1]\n",
    "amount_of_ham = data.CATEGORY.value_counts()[0]"
   ]
  },
  {
   "cell_type": "code",
   "execution_count": 30,
   "metadata": {},
   "outputs": [
    {
     "data": {
      "image/png": "[encoded data removed]",
      "text/plain": [
       "<Figure size 600x600 with 1 Axes>"
      ]
     },
     "metadata": {},
     "output_type": "display_data"
    }
   ],
   "source": [
    "category_names = ['Spam', 'Legit Mail']\n",
    "sizes = [amount_of_spam, amount_of_ham]\n",
    "\n",
    "plt.figure(figsize=(3, 3), dpi=200)\n",
    "plt.pie(sizes, labels=category_names, textprops={'fontsize': 9}, startangle=90,\n",
    "       autopct=\"%1.0f%%\")\n",
    "plt.show()"
   ]
  },
  {
   "cell_type": "code",
   "execution_count": null,
   "metadata": {},
   "outputs": [],
   "source": []
  },
  {
   "cell_type": "code",
   "execution_count": 31,
   "metadata": {},
   "outputs": [
    {
     "data": {
      "image/png": "[encoded data removed]",
      "text/plain": [
       "<Figure size 600x600 with 1 Axes>"
      ]
     },
     "metadata": {},
     "output_type": "display_data"
    }
   ],
   "source": [
    "category_names = ['Spam', 'Legit Mail']\n",
    "sizes = [amount_of_spam, amount_of_ham]\n",
    "custom_colours = ['#ff7675', '#74b9ff']\n",
    "\n",
    "plt.figure(figsize=(3, 3), dpi=200)\n",
    "plt.pie(sizes, labels=category_names, textprops={'fontsize': 9}, startangle=90,\n",
    "       autopct=\"%1.0f%%\", colors=custom_colours, explode=[0, 0.1])\n",
    "plt.show()"
   ]
  },
  {
   "cell_type": "code",
   "execution_count": 32,
   "metadata": {},
   "outputs": [
    {
     "data": {
      "image/png": "[encoded data removed]",
      "text/plain": [
       "<Figure size 600x600 with 1 Axes>"
      ]
     },
     "metadata": {},
     "output_type": "display_data"
    }
   ],
   "source": [
    "category_names = ['Spam', 'Legit Mail']\n",
    "sizes = [amount_of_spam, amount_of_ham]\n",
    "custom_colours = ['#ff7675', '#74b9ff']\n",
    "\n",
    "plt.figure(figsize=(3, 3), dpi=200)\n",
    "plt.pie(sizes, labels=category_names, textprops={'fontsize': 9}, startangle=90,\n",
    "       autopct=\"%1.0f%%\", colors=custom_colours, pctdistance=0.8)\n",
    "\n",
    "#draw circle\n",
    "centre_circle = plt.Circle((0, 0), radius=0.6, fc='white')\n",
    "plt.gca().add_artist(centre_circle)\n",
    "\n",
    "plt.show()\n"
   ]
  },
  {
   "cell_type": "code",
   "execution_count": 33,
   "metadata": {},
   "outputs": [
    {
     "data": {
      "image/png": "[encoded data removed]",
      "text/plain": [
       "<Figure size 600x600 with 1 Axes>"
      ]
     },
     "metadata": {},
     "output_type": "display_data"
    }
   ],
   "source": [
    "category_names = ['Spam', 'Legit Mail', 'Future', 'Goods']\n",
    "sizes = [22, 48, 51, 12]\n",
    "custom_colours = ['#ff7675', '#74b9ff', '#a29bfe', '#ffeaa7']\n",
    "offset = [0.05, 0.05, 0.05, 0.05]\n",
    "\n",
    "plt.figure(figsize=(3, 3), dpi=200)\n",
    "plt.pie(sizes, labels=category_names, textprops={'fontsize': 9}, startangle=90,\n",
    "       autopct=\"%1.0f%%\", colors=custom_colours, pctdistance=0.8, explode=offset)\n",
    "\n",
    "#draw circle\n",
    "centre_circle = plt.Circle((0, 0), radius=0.6, fc='white')\n",
    "plt.gca().add_artist(centre_circle)\n",
    "\n",
    "plt.show()\n"
   ]
  },
  {
   "cell_type": "markdown",
   "metadata": {},
   "source": [
    "# Natural Language Processing"
   ]
  },
  {
   "cell_type": "markdown",
   "metadata": {},
   "source": [
    "### Text Pre-Processing"
   ]
  },
  {
   "cell_type": "code",
   "execution_count": 34,
   "metadata": {},
   "outputs": [
    {
     "data": {
      "text/plain": [
       "'i am the bond of my swords'"
      ]
     },
     "execution_count": 34,
     "metadata": {},
     "output_type": "execute_result"
    }
   ],
   "source": [
    "# convert to lowercase\n",
    "msg = 'I am the Bond of my Swords'\n",
    "msg.lower()"
   ]
  },
  {
   "cell_type": "markdown",
   "metadata": {},
   "source": [
    "### Download the NLTK Resources (Tokenizer & Stopwords)"
   ]
  },
  {
   "cell_type": "code",
   "execution_count": 35,
   "metadata": {},
   "outputs": [
    {
     "name": "stdout",
     "output_type": "stream",
     "text": [
      "[nltk_data] Downloading package punkt to\n",
      "[nltk_data]     C:\\Users\\Vinh\\AppData\\Roaming\\nltk_data...\n",
      "[nltk_data]   Unzipping tokenizers\\punkt.zip.\n"
     ]
    },
    {
     "data": {
      "text/plain": [
       "True"
      ]
     },
     "execution_count": 35,
     "metadata": {},
     "output_type": "execute_result"
    }
   ],
   "source": [
    "nltk.download('punkt')"
   ]
  },
  {
   "cell_type": "code",
   "execution_count": 36,
   "metadata": {},
   "outputs": [
    {
     "name": "stdout",
     "output_type": "stream",
     "text": [
      "[nltk_data] Downloading package stopwords to\n",
      "[nltk_data]     C:\\Users\\Vinh\\AppData\\Roaming\\nltk_data...\n",
      "[nltk_data]   Unzipping corpora\\stopwords.zip.\n"
     ]
    },
    {
     "data": {
      "text/plain": [
       "True"
      ]
     },
     "execution_count": 36,
     "metadata": {},
     "output_type": "execute_result"
    }
   ],
   "source": [
    "nltk.download('stopwords')"
   ]
  },
  {
   "cell_type": "markdown",
   "metadata": {},
   "source": [
    "### Tokenising"
   ]
  },
  {
   "cell_type": "code",
   "execution_count": 37,
   "metadata": {},
   "outputs": [
    {
     "data": {
      "text/plain": [
       "['i', 'am', 'the', 'bond', 'of', 'my', 'swords']"
      ]
     },
     "execution_count": 37,
     "metadata": {},
     "output_type": "execute_result"
    }
   ],
   "source": [
    "msg = 'I am the Bond of my Swords'\n",
    "word_tokenize(msg.lower())"
   ]
  },
  {
   "cell_type": "markdown",
   "metadata": {},
   "source": [
    "### Removing Stopwords"
   ]
  },
  {
   "cell_type": "code",
   "execution_count": 38,
   "metadata": {},
   "outputs": [],
   "source": [
    "stop_words = set(stopwords.words('english'))"
   ]
  },
  {
   "cell_type": "code",
   "execution_count": 39,
   "metadata": {},
   "outputs": [
    {
     "data": {
      "text/plain": [
       "list"
      ]
     },
     "execution_count": 39,
     "metadata": {},
     "output_type": "execute_result"
    }
   ],
   "source": [
    "type(stopwords.words('english'))"
   ]
  },
  {
   "cell_type": "code",
   "execution_count": 40,
   "metadata": {},
   "outputs": [
    {
     "data": {
      "text/plain": [
       "set"
      ]
     },
     "execution_count": 40,
     "metadata": {},
     "output_type": "execute_result"
    }
   ],
   "source": [
    "type(stop_words)"
   ]
  },
  {
   "cell_type": "code",
   "execution_count": 41,
   "metadata": {},
   "outputs": [
    {
     "name": "stdout",
     "output_type": "stream",
     "text": [
      "Nope\n"
     ]
    }
   ],
   "source": [
    "if 'alll' not in stop_words: \n",
    "    print('Nope')"
   ]
  },
  {
   "cell_type": "code",
   "execution_count": 42,
   "metadata": {},
   "outputs": [
    {
     "name": "stdout",
     "output_type": "stream",
     "text": [
      "Ok\n"
     ]
    }
   ],
   "source": [
    "if 'all' in stop_words: \n",
    "    print('Ok')"
   ]
  },
  {
   "cell_type": "code",
   "execution_count": 43,
   "metadata": {},
   "outputs": [
    {
     "name": "stdout",
     "output_type": "stream",
     "text": [
      "['bond', 'swords', '.', 'let']\n"
     ]
    }
   ],
   "source": [
    "msg = 'I am the Bond of my Swords. Let it be'\n",
    "words = word_tokenize(msg.lower())\n",
    "\n",
    "filtered_words = []\n",
    "for word in words:\n",
    "    if word not in stop_words:\n",
    "        filtered_words.append(word)\n",
    "\n",
    "print(filtered_words)"
   ]
  },
  {
   "cell_type": "markdown",
   "metadata": {},
   "source": [
    "### Word Stemming"
   ]
  },
  {
   "cell_type": "code",
   "execution_count": 44,
   "metadata": {},
   "outputs": [
    {
     "name": "stdout",
     "output_type": "stream",
     "text": [
      "['bond', 'sword', '.', 'steel', 'bodi', '.', 'let']\n"
     ]
    }
   ],
   "source": [
    "msg = 'I am the Bond of my Swords. Steel is my body. Let it be'\n",
    "words = word_tokenize(msg.lower())\n",
    "stemmer = PorterStemmer()\n",
    "\n",
    "filtered_words = []\n",
    "for word in words:\n",
    "    if word not in stop_words:\n",
    "        stemmed_word = stemmer.stem(word)\n",
    "        filtered_words.append(stemmed_word)\n",
    "\n",
    "print(filtered_words)"
   ]
  },
  {
   "cell_type": "markdown",
   "metadata": {},
   "source": [
    "### Removing Punctuation"
   ]
  },
  {
   "cell_type": "code",
   "execution_count": 45,
   "metadata": {},
   "outputs": [
    {
     "data": {
      "text/plain": [
       "True"
      ]
     },
     "execution_count": 45,
     "metadata": {},
     "output_type": "execute_result"
    }
   ],
   "source": [
    "'a'.isalpha()"
   ]
  },
  {
   "cell_type": "code",
   "execution_count": 46,
   "metadata": {},
   "outputs": [
    {
     "data": {
      "text/plain": [
       "False"
      ]
     },
     "execution_count": 46,
     "metadata": {},
     "output_type": "execute_result"
    }
   ],
   "source": [
    "'?'.isalpha()"
   ]
  },
  {
   "cell_type": "code",
   "execution_count": 47,
   "metadata": {},
   "outputs": [
    {
     "name": "stdout",
     "output_type": "stream",
     "text": [
      "['bond', 'sword', 'steel', 'bodi', 'let']\n"
     ]
    }
   ],
   "source": [
    "msg = 'I am the Bond of my Swords. Steel is my body. Let it be???'\n",
    "words = word_tokenize(msg.lower())\n",
    "stemmer = PorterStemmer()\n",
    "\n",
    "filtered_words = []\n",
    "for word in words:\n",
    "    if word not in stop_words and word.isalpha():\n",
    "        stemmed_word = stemmer.stem(word)\n",
    "        filtered_words.append(stemmed_word)\n",
    "\n",
    "print(filtered_words)"
   ]
  },
  {
   "cell_type": "markdown",
   "metadata": {},
   "source": [
    "### Removing HTML Tags"
   ]
  },
  {
   "cell_type": "code",
   "execution_count": 48,
   "metadata": {},
   "outputs": [
    {
     "name": "stdout",
     "output_type": "stream",
     "text": [
      "<html>\n",
      " <head>\n",
      "  <title>\n",
      "   ReliaQuote - Save Up To 70% On Life Insurance\n",
      "  </title>\n",
      "  <meta content=\"text/html; charset=utf-8\" http-equiv=\"Content-Type\"/>\n",
      " </head>\n",
      " <body alink=\"#FFCC00\" leftmargin=\"0\" link=\"#FFCC99\" topmargin=\"0\" vlink=\"#FFCC99\">\n",
      "  <table align=\"center\" bgcolor=\"993366\" border=\"0\" cellpadding=\"0\" cellspacing=\"0\" height=\"500\" width=\"468\">\n",
      "   <tr>\n",
      "    <td align=\"left\" height=\"43\" valign=\"top\" width=\"56%\">\n",
      "     <table border=\"0\" cellpadding=\"3\" cellspacing=\"0\" width=\"100%\">\n",
      "      <tr>\n",
      "       <td>\n",
      "        <a href=\"http://theadmanager.com/server/c.asp?ad_key=YUESBHWAKMLK&amp;ext=1\" target=\"_blank\">\n",
      "         <img border=\"0\" height=\"32\" src=\"http://www.reliaquote.com/banner/bannerads/images/logo6.gif\" width=\"120\"/>\n",
      "        </a>\n",
      "       </td>\n",
      "      </tr>\n",
      "     </table>\n",
      "    </td>\n",
      "    <td align=\"left\" height=\"43\" valign=\"top\" width=\"44%\">\n",
      "    </td>\n",
      "   </tr>\n",
      "   <tr>\n",
      "    <td align=\"left\" height=\"377\" valign=\"top\" width=\"56%\">\n",
      "     <table border=\"0\" cellpadding=\"0\" cellspacing=\"0\" width=\"100%\">\n",
      "      <tr align=\"right\" bgcolor=\"#FFCCFF\" valign=\"top\">\n",
      "       <td height=\"2\">\n",
      "        <img height=\"72\" src=\"http://www.reliaquote.com/banner/bannerads/images/headline6.gif\" width=\"220\"/>\n",
      "       </td>\n",
      "      </tr>\n",
      "      <tr align=\"center\" bgcolor=\"336699\" valign=\"top\">\n",
      "       <td height=\"2\">\n",
      "        <table border=\"0\" cellpadding=\"0\" cellspacing=\"0\" width=\"100%\">\n",
      "         <tr align=\"center\" valign=\"top\">\n",
      "          <td height=\"32\">\n",
      "           <table border=\"0\" cellpadding=\"0\" cellspacing=\"0\" width=\"100%\">\n",
      "            <tr align=\"left\" valign=\"top\">\n",
      "             <td height=\"34\">\n",
      "              <table bgcolor=\"#993366\" border=\"0\" cellpadding=\"0\" cellspacing=\"8\" width=\"100%\">\n",
      "               <tr align=\"center\" valign=\"top\">\n",
      "                <td height=\"45\">\n",
      "                 <p>\n",
      "                  <font color=\"#FFCC00\" face=\"Tahoma, Verdana, Arial\" size=\"2\">\n",
      "                   <b>\n",
      "                    Life\n",
      "\n",
      "                                can change in an instant. That's why it is so\n",
      "\n",
      "                                important to protect your family's financial future\n",
      "\n",
      "                                with sufficient life insurance coverage.\n",
      "                   </b>\n",
      "                  </font>\n",
      "                 </p>\n",
      "                </td>\n",
      "               </tr>\n",
      "              </table>\n",
      "             </td>\n",
      "            </tr>\n",
      "           </table>\n",
      "          </td>\n",
      "         </tr>\n",
      "        </table>\n",
      "       </td>\n",
      "      </tr>\n",
      "      <tr align=\"center\" bgcolor=\"#FFCC00\" valign=\"middle\">\n",
      "       <td height=\"27\">\n",
      "        <font size=\"1\">\n",
      "         <b>\n",
      "          <img height=\"24\" src=\"http://www.reliaquote.com/banner/bannerads/images/freequotes6.gif\" width=\"177\"/>\n",
      "         </b>\n",
      "        </font>\n",
      "       </td>\n",
      "      </tr>\n",
      "      <tr align=\"left\" bgcolor=\"#3366CC\" valign=\"top\">\n",
      "       <td height=\"294\">\n",
      "        <form action=\"http://www.reliaquote.com/termlife/cgi-bin/banner_quote_resp.asp\" method=\"get\" name=\"FreeQuoteForm\">\n",
      "         <input name=\"sourceid\" type=\"hidden\" value=\"51100004022000000321\"/>\n",
      "         <table border=\"0\" cellpadding=\"2\" cellspacing=\"0\" class=\"hptbcolor\" width=\"100%\">\n",
      "          <tbody>\n",
      "           <tr>\n",
      "            <td width=\"100%\">\n",
      "             <table border=\"0\" cellpadding=\"0\" cellspacing=\"4\" width=\"100%\">\n",
      "              <tbody>\n",
      "               <tr>\n",
      "                <td class=\"content\" width=\"35%\">\n",
      "                 <font color=\"#FFFFFF\" face=\"Tahoma, Verdana, Arial\" size=\"1\">\n",
      "                  <strong>\n",
      "                   State\n",
      "\n",
      "                          of Residence:\n",
      "                  </strong>\n",
      "                 </font>\n",
      "                </td>\n",
      "                <td align=\"left\" class=\"content\" valign=\"middle\" width=\"65%\">\n",
      "                 <font face=\"Tahoma, Verdana, Arial\">\n",
      "                  <select id=\"FormsComboBox12\" name=\"state\" size=\"1\">\n",
      "                   <option selected=\"\" value=\"\">\n",
      "                    Select State\n",
      "                   </option>\n",
      "                   <option value=\"Alabama\">\n",
      "                    Alabama\n",
      "                   </option>\n",
      "                   <option value=\"Alaska\">\n",
      "                    Alaska\n",
      "                   </option>\n",
      "                   <option value=\"Arizona\">\n",
      "                    Arizona\n",
      "                   </option>\n",
      "                   <option value=\"Arkansas\">\n",
      "                    Arkansas\n",
      "                   </option>\n",
      "                   <option value=\"California\">\n",
      "                    California\n",
      "                   </option>\n",
      "                   <option value=\"Colorado\">\n",
      "                    Colorado\n",
      "                   </option>\n",
      "                   <option value=\"Connecticut\">\n",
      "                    Connecticut\n",
      "                   </option>\n",
      "                   <option value=\"Delaware\">\n",
      "                    Delaware\n",
      "                   </option>\n",
      "                   <option value=\"DC\">\n",
      "                    Dist. of Columbia\n",
      "                   </option>\n",
      "                   <option value=\"Florida\">\n",
      "                    Florida\n",
      "                   </option>\n",
      "                   <option value=\"Georgia\">\n",
      "                    Georgia\n",
      "                   </option>\n",
      "                   <option value=\"Hawaii\">\n",
      "                    Hawaii\n",
      "                   </option>\n",
      "                   <option value=\"Idaho\">\n",
      "                    Idaho\n",
      "                   </option>\n",
      "                   <option value=\"Illinois\">\n",
      "                    Illinois\n",
      "                   </option>\n",
      "                   <option value=\"Indiana\">\n",
      "                    Indiana\n",
      "                   </option>\n",
      "                   <option value=\"Iowa\">\n",
      "                    Iowa\n",
      "                   </option>\n",
      "                   <option value=\"Kansas\">\n",
      "                    Kansas\n",
      "                   </option>\n",
      "                   <option value=\"Kentucky\">\n",
      "                    Kentucky\n",
      "                   </option>\n",
      "                   <option value=\"Louisiana\">\n",
      "                    Louisiana\n",
      "                   </option>\n",
      "                   <option value=\"Maine\">\n",
      "                    Maine\n",
      "                   </option>\n",
      "                   <option value=\"Maryland\">\n",
      "                    Maryland\n",
      "                   </option>\n",
      "                   <option value=\"Massachusetts\">\n",
      "                    Massachusetts\n",
      "                   </option>\n",
      "                   <option value=\"Michigan\">\n",
      "                    Michigan\n",
      "                   </option>\n",
      "                   <option value=\"Minnesota\">\n",
      "                    Minnesota\n",
      "                   </option>\n",
      "                   <option value=\"Mississippi\">\n",
      "                    Mississippi\n",
      "                   </option>\n",
      "                   <option value=\"Missouri\">\n",
      "                    Missouri\n",
      "                   </option>\n",
      "                   <option value=\"Montana\">\n",
      "                    Montana\n",
      "                   </option>\n",
      "                   <option value=\"Nebraska\">\n",
      "                    Nebraska\n",
      "                   </option>\n",
      "                   <option value=\"Nevada\">\n",
      "                    Nevada\n",
      "                   </option>\n",
      "                   <option value=\"New Hampshire\">\n",
      "                    New Hampshire\n",
      "                   </option>\n",
      "                   <option value=\"New Jersey\">\n",
      "                    New Jersey\n",
      "                   </option>\n",
      "                   <option value=\"New Mexico\">\n",
      "                    New Mexico\n",
      "                   </option>\n",
      "                   <option value=\"New York\">\n",
      "                    New York\n",
      "                   </option>\n",
      "                   <option value=\"North Carolina\">\n",
      "                    North Carolina\n",
      "                   </option>\n",
      "                   <option value=\"North Dakota\">\n",
      "                    North Dakota\n",
      "                   </option>\n",
      "                   <option value=\"Ohio\">\n",
      "                    Ohio\n",
      "                   </option>\n",
      "                   <option value=\"Oklahoma\">\n",
      "                    Oklahoma\n",
      "                   </option>\n",
      "                   <option value=\"Oregon\">\n",
      "                    Oregon\n",
      "                   </option>\n",
      "                   <option value=\"Pennsylvania\">\n",
      "                    Pennsylvania\n",
      "                   </option>\n",
      "                   <option value=\"Rhode Island\">\n",
      "                    Rhode Island\n",
      "                   </option>\n",
      "                   <option value=\"South Carolina\">\n",
      "                    South Carolina\n",
      "                   </option>\n",
      "                   <option value=\"South Dakota\">\n",
      "                    South Dakota\n",
      "                   </option>\n",
      "                   <option value=\"Tennessee\">\n",
      "                    Tennessee\n",
      "                   </option>\n",
      "                   <option value=\"Texas\">\n",
      "                    Texas\n",
      "                   </option>\n",
      "                   <option value=\"Utah\">\n",
      "                    Utah\n",
      "                   </option>\n",
      "                   <option value=\"Vermont\">\n",
      "                    Vermont\n",
      "                   </option>\n",
      "                   <option value=\"Virginia\">\n",
      "                    Virginia\n",
      "                   </option>\n",
      "                   <option value=\"Washington\">\n",
      "                    Washington\n",
      "                   </option>\n",
      "                   <option value=\"West Virginia\">\n",
      "                    West Virginia\n",
      "                   </option>\n",
      "                   <option value=\"Wisconsin\">\n",
      "                    Wisconsin\n",
      "                   </option>\n",
      "                   <option value=\"Wyoming\">\n",
      "                    Wyoming\n",
      "                   </option>\n",
      "                  </select>\n",
      "                 </font>\n",
      "                </td>\n",
      "               </tr>\n",
      "               <tr>\n",
      "                <td class=\"content\" width=\"35%\">\n",
      "                 <font color=\"#FFFFFF\" face=\"Tahoma, Verdana, Arial\" size=\"1\">\n",
      "                  <strong>\n",
      "                   Date\n",
      "\n",
      "                          of Birth (MM/DD/YY):\n",
      "                  </strong>\n",
      "                 </font>\n",
      "                </td>\n",
      "                <td align=\"left\" nowrap=\"\" valign=\"middle\" width=\"65%\">\n",
      "                 <font face=\"Tahoma, Verdana, Arial\">\n",
      "                  <select name=\"MM\" size=\"1\">\n",
      "                   <option selected=\"\" value=\"\">\n",
      "                    MM\n",
      "                   </option>\n",
      "                   <option value=\"01\">\n",
      "                    01\n",
      "                   </option>\n",
      "                   <option value=\"02\">\n",
      "                    02\n",
      "                   </option>\n",
      "                   <option value=\"03\">\n",
      "                    03\n",
      "                   </option>\n",
      "                   <option value=\"04\">\n",
      "                    04\n",
      "                   </option>\n",
      "                   <option value=\"05\">\n",
      "                    05\n",
      "                   </option>\n",
      "                   <option value=\"06\">\n",
      "                    06\n",
      "                   </option>\n",
      "                   <option value=\"07\">\n",
      "                    07\n",
      "                   </option>\n",
      "                   <option value=\"08\">\n",
      "                    08\n",
      "                   </option>\n",
      "                   <option value=\"09\">\n",
      "                    09\n",
      "                   </option>\n",
      "                   <option value=\"10\">\n",
      "                    10\n",
      "                   </option>\n",
      "                   <option value=\"11\">\n",
      "                    11\n",
      "                   </option>\n",
      "                   <option value=\"12\">\n",
      "                    12\n",
      "                   </option>\n",
      "                  </select>\n",
      "                  /\n",
      "                  <select name=\"DD\" size=\"1\">\n",
      "                   <option selected=\"\" value=\"\">\n",
      "                    DD\n",
      "                   </option>\n",
      "                   <option value=\"01\">\n",
      "                    01\n",
      "                   </option>\n",
      "                   <option value=\"02\">\n",
      "                    02\n",
      "                   </option>\n",
      "                   <option value=\"03\">\n",
      "                    03\n",
      "                   </option>\n",
      "                   <option value=\"04\">\n",
      "                    04\n",
      "                   </option>\n",
      "                   <option value=\"05\">\n",
      "                    05\n",
      "                   </option>\n",
      "                   <option value=\"06\">\n",
      "                    06\n",
      "                   </option>\n",
      "                   <option value=\"07\">\n",
      "                    07\n",
      "                   </option>\n",
      "                   <option value=\"08\">\n",
      "                    08\n",
      "                   </option>\n",
      "                   <option value=\"09\">\n",
      "                    09\n",
      "                   </option>\n",
      "                   <option value=\"10\">\n",
      "                    10\n",
      "                   </option>\n",
      "                   <option value=\"11\">\n",
      "                    11\n",
      "                   </option>\n",
      "                   <option value=\"12\">\n",
      "                    12\n",
      "                   </option>\n",
      "                   <option value=\"13\">\n",
      "                    13\n",
      "                   </option>\n",
      "                   <option value=\"14\">\n",
      "                    14\n",
      "                   </option>\n",
      "                   <option value=\"15\">\n",
      "                    15\n",
      "                   </option>\n",
      "                   <option value=\"16\">\n",
      "                    16\n",
      "                   </option>\n",
      "                   <option value=\"17\">\n",
      "                    17\n",
      "                   </option>\n",
      "                   <option value=\"18\">\n",
      "                    18\n",
      "                   </option>\n",
      "                   <option value=\"19\">\n",
      "                    19\n",
      "                   </option>\n",
      "                   <option value=\"20\">\n",
      "                    20\n",
      "                   </option>\n",
      "                   <option value=\"21\">\n",
      "                    21\n",
      "                   </option>\n",
      "                   <option value=\"22\">\n",
      "                    22\n",
      "                   </option>\n",
      "                   <option value=\"23\">\n",
      "                    23\n",
      "                   </option>\n",
      "                   <option value=\"24\">\n",
      "                    24\n",
      "                   </option>\n",
      "                   <option value=\"25\">\n",
      "                    25\n",
      "                   </option>\n",
      "                   <option value=\"26\">\n",
      "                    26\n",
      "                   </option>\n",
      "                   <option value=\"27\">\n",
      "                    27\n",
      "                   </option>\n",
      "                   <option value=\"28\">\n",
      "                    28\n",
      "                   </option>\n",
      "                   <option value=\"29\">\n",
      "                    29\n",
      "                   </option>\n",
      "                   <option value=\"30\">\n",
      "                    30\n",
      "                   </option>\n",
      "                   <option value=\"31\">\n",
      "                    31\n",
      "                   </option>\n",
      "                  </select>\n",
      "                  /\n",
      "                  <select name=\"YY\" size=\"1\">\n",
      "                   <option selected=\"\" value=\"\">\n",
      "                    YY\n",
      "                   </option>\n",
      "                   <option value=\"13\">\n",
      "                    13\n",
      "                   </option>\n",
      "                   <option value=\"14\">\n",
      "                    14\n",
      "                   </option>\n",
      "                   <option value=\"15\">\n",
      "                    15\n",
      "                   </option>\n",
      "                   <option value=\"16\">\n",
      "                    16\n",
      "                   </option>\n",
      "                   <option value=\"17\">\n",
      "                    17\n",
      "                   </option>\n",
      "                   <option value=\"18\">\n",
      "                    18\n",
      "                   </option>\n",
      "                   <option value=\"19\">\n",
      "                    19\n",
      "                   </option>\n",
      "                   <option value=\"20\">\n",
      "                    20\n",
      "                   </option>\n",
      "                   <option value=\"21\">\n",
      "                    21\n",
      "                   </option>\n",
      "                   <option value=\"22\">\n",
      "                    22\n",
      "                   </option>\n",
      "                   <option value=\"23\">\n",
      "                    23\n",
      "                   </option>\n",
      "                   <option value=\"24\">\n",
      "                    24\n",
      "                   </option>\n",
      "                   <option value=\"25\">\n",
      "                    25\n",
      "                   </option>\n",
      "                   <option value=\"26\">\n",
      "                    26\n",
      "                   </option>\n",
      "                   <option value=\"27\">\n",
      "                    27\n",
      "                   </option>\n",
      "                   <option value=\"28\">\n",
      "                    28\n",
      "                   </option>\n",
      "                   <option value=\"29\">\n",
      "                    29\n",
      "                   </option>\n",
      "                   <option value=\"30\">\n",
      "                    30\n",
      "                   </option>\n",
      "                   <option value=\"31\">\n",
      "                    31\n",
      "                   </option>\n",
      "                   <option value=\"32\">\n",
      "                    32\n",
      "                   </option>\n",
      "                   <option value=\"33\">\n",
      "                    33\n",
      "                   </option>\n",
      "                   <option value=\"34\">\n",
      "                    34\n",
      "                   </option>\n",
      "                   <option value=\"35\">\n",
      "                    35\n",
      "                   </option>\n",
      "                   <option value=\"36\">\n",
      "                    36\n",
      "                   </option>\n",
      "                   <option value=\"37\">\n",
      "                    37\n",
      "                   </option>\n",
      "                   <option value=\"38\">\n",
      "                    38\n",
      "                   </option>\n",
      "                   <option value=\"39\">\n",
      "                    39\n",
      "                   </option>\n",
      "                   <option value=\"40\">\n",
      "                    40\n",
      "                   </option>\n",
      "                   <option value=\"41\">\n",
      "                    41\n",
      "                   </option>\n",
      "                   <option value=\"42\">\n",
      "                    42\n",
      "                   </option>\n",
      "                   <option value=\"43\">\n",
      "                    43\n",
      "                   </option>\n",
      "                   <option value=\"44\">\n",
      "                    44\n",
      "                   </option>\n",
      "                   <option value=\"45\">\n",
      "                    45\n",
      "                   </option>\n",
      "                   <option value=\"46\">\n",
      "                    46\n",
      "                   </option>\n",
      "                   <option value=\"47\">\n",
      "                    47\n",
      "                   </option>\n",
      "                   <option value=\"48\">\n",
      "                    48\n",
      "                   </option>\n",
      "                   <option value=\"49\">\n",
      "                    49\n",
      "                   </option>\n",
      "                   <option value=\"50\">\n",
      "                    50\n",
      "                   </option>\n",
      "                   <option value=\"51\">\n",
      "                    51\n",
      "                   </option>\n",
      "                   <option value=\"52\">\n",
      "                    52\n",
      "                   </option>\n",
      "                   <option value=\"53\">\n",
      "                    53\n",
      "                   </option>\n",
      "                   <option value=\"54\">\n",
      "                    54\n",
      "                   </option>\n",
      "                   <option value=\"55\">\n",
      "                    55\n",
      "                   </option>\n",
      "                   <option value=\"56\">\n",
      "                    56\n",
      "                   </option>\n",
      "                   <option value=\"57\">\n",
      "                    57\n",
      "                   </option>\n",
      "                   <option value=\"58\">\n",
      "                    58\n",
      "                   </option>\n",
      "                   <option value=\"59\">\n",
      "                    59\n",
      "                   </option>\n",
      "                   <option value=\"60\">\n",
      "                    60\n",
      "                   </option>\n",
      "                   <option value=\"61\">\n",
      "                    61\n",
      "                   </option>\n",
      "                   <option value=\"62\">\n",
      "                    62\n",
      "                   </option>\n",
      "                   <option value=\"63\">\n",
      "                    63\n",
      "                   </option>\n",
      "                   <option value=\"64\">\n",
      "                    64\n",
      "                   </option>\n",
      "                   <option value=\"65\">\n",
      "                    65\n",
      "                   </option>\n",
      "                   <option value=\"66\">\n",
      "                    66\n",
      "                   </option>\n",
      "                   <option value=\"67\">\n",
      "                    67\n",
      "                   </option>\n",
      "                   <option value=\"68\">\n",
      "                    68\n",
      "                   </option>\n",
      "                   <option value=\"69\">\n",
      "                    69\n",
      "                   </option>\n",
      "                   <option value=\"70\">\n",
      "                    70\n",
      "                   </option>\n",
      "                   <option value=\"71\">\n",
      "                    71\n",
      "                   </option>\n",
      "                   <option value=\"72\">\n",
      "                    72\n",
      "                   </option>\n",
      "                   <option value=\"73\">\n",
      "                    73\n",
      "                   </option>\n",
      "                   <option value=\"74\">\n",
      "                    74\n",
      "                   </option>\n",
      "                   <option value=\"75\">\n",
      "                    75\n",
      "                   </option>\n",
      "                   <option value=\"76\">\n",
      "                    76\n",
      "                   </option>\n",
      "                   <option value=\"77\">\n",
      "                    77\n",
      "                   </option>\n",
      "                   <option value=\"78\">\n",
      "                    78\n",
      "                   </option>\n",
      "                   <option value=\"79\">\n",
      "                    79\n",
      "                   </option>\n",
      "                   <option value=\"80\">\n",
      "                    80\n",
      "                   </option>\n",
      "                   <option value=\"81\">\n",
      "                    81\n",
      "                   </option>\n",
      "                   <option value=\"82\">\n",
      "                    82\n",
      "                   </option>\n",
      "                   <option value=\"83\">\n",
      "                    83\n",
      "                   </option>\n",
      "                   <option value=\"84\">\n",
      "                    84\n",
      "                   </option>\n",
      "                  </select>\n",
      "                 </font>\n",
      "                </td>\n",
      "               </tr>\n",
      "               <tr>\n",
      "                <td class=\"content\" width=\"35%\">\n",
      "                 <font color=\"#FFFFFF\" face=\"Tahoma, Verdana, Arial\" size=\"1\">\n",
      "                  <strong>\n",
      "                   Sex:\n",
      "                  </strong>\n",
      "                 </font>\n",
      "                </td>\n",
      "                <td align=\"left\" nowrap=\"\" valign=\"middle\" width=\"65%\">\n",
      "                 <table border=\"0\" cellspacing=\"0\" width=\"100%\">\n",
      "                  <tbody>\n",
      "                   <tr>\n",
      "                    <td width=\"50%\">\n",
      "                     <font color=\"#FFFFFF\" face=\"Tahoma, Verdana, Arial\" size=\"1\">\n",
      "                      <b>\n",
      "                       <input id=\"FormsRadioButton1\" name=\"Sex\" type=\"radio\" value=\"M\"/>\n",
      "                       Male\n",
      "                      </b>\n",
      "                     </font>\n",
      "                    </td>\n",
      "                    <td width=\"50%\">\n",
      "                     <font color=\"#FFFFFF\" face=\"Tahoma, Verdana, Arial\" size=\"1\">\n",
      "                      <b>\n",
      "                       <input id=\"FormsRadioButton2\" name=\"Sex\" type=\"radio\" value=\"F\"/>\n",
      "                       Female\n",
      "                      </b>\n",
      "                     </font>\n",
      "                    </td>\n",
      "                   </tr>\n",
      "                  </tbody>\n",
      "                 </table>\n",
      "                </td>\n",
      "               </tr>\n",
      "               <tr>\n",
      "                <td class=\"content\" width=\"35%\">\n",
      "                 <font color=\"#FFFFFF\" face=\"Tahoma, Verdana, Arial\" size=\"1\">\n",
      "                  <strong>\n",
      "                   Have\n",
      "\n",
      "                          you used any tobacco products in the last 12 months?\n",
      "                  </strong>\n",
      "                 </font>\n",
      "                </td>\n",
      "                <td align=\"left\" nowrap=\"\" valign=\"middle\" width=\"65%\">\n",
      "                 <table border=\"0\" cellspacing=\"0\" width=\"100%\">\n",
      "                  <tbody>\n",
      "                   <tr>\n",
      "                    <td width=\"50%\">\n",
      "                     <b>\n",
      "                      <font color=\"#FFFFFF\" face=\"Tahoma, Verdana, Arial\" size=\"1\">\n",
      "                       <input id=\"FormsRadioButton4\" name=\"Tobacco\" type=\"radio\" value=\"N\"/>\n",
      "                       No\n",
      "                      </font>\n",
      "                     </b>\n",
      "                    </td>\n",
      "                    <td width=\"50%\">\n",
      "                     <b>\n",
      "                      <font color=\"#FFFFFF\" face=\"Tahoma, Verdana, Arial\" size=\"1\">\n",
      "                       <input id=\"FormsRadioButton3\" name=\"Tobacco\" type=\"radio\" value=\"Y\"/>\n",
      "                       Yes\n",
      "                      </font>\n",
      "                     </b>\n",
      "                    </td>\n",
      "                   </tr>\n",
      "                  </tbody>\n",
      "                 </table>\n",
      "                </td>\n",
      "               </tr>\n",
      "               <tr>\n",
      "                <td class=\"content\" width=\"35%\">\n",
      "                 <font color=\"#FFFFFF\" face=\"Tahoma, Verdana, Arial\" size=\"1\">\n",
      "                  <strong>\n",
      "                   Coverage\n",
      "\n",
      "                          Amount:\n",
      "                  </strong>\n",
      "                 </font>\n",
      "                </td>\n",
      "                <td align=\"left\" class=\"content\" valign=\"middle\" width=\"65%\">\n",
      "                 <font face=\"Tahoma, Verdana, Arial\">\n",
      "                  <select id=\"FormsComboBox11\" name=\"coverage-amount\" size=\"1\">\n",
      "                   <option selected=\"\" value=\"\">\n",
      "                    Select Amount\n",
      "                   </option>\n",
      "                   <option value=\"100000.00\">\n",
      "                    100,000\n",
      "                   </option>\n",
      "                   <option value=\"125000.00\">\n",
      "                    125,000\n",
      "                   </option>\n",
      "                   <option value=\"150000.00\">\n",
      "                    150,000\n",
      "                   </option>\n",
      "                   <option value=\"175000.00\">\n",
      "                    175,000\n",
      "                   </option>\n",
      "                   <option value=\"200000.00\">\n",
      "                    200,000\n",
      "                   </option>\n",
      "                   <option value=\"225000.00\">\n",
      "                    225,000\n",
      "                   </option>\n",
      "                   <option value=\"250000.00\">\n",
      "                    250,000\n",
      "                   </option>\n",
      "                   <option value=\"275000.00\">\n",
      "                    275,000\n",
      "                   </option>\n",
      "                   <option value=\"300000.00\">\n",
      "                    300,000\n",
      "                   </option>\n",
      "                   <option value=\"325000.00\">\n",
      "                    325,000\n",
      "                   </option>\n",
      "                   <option value=\"350000.00\">\n",
      "                    350,000\n",
      "                   </option>\n",
      "                   <option value=\"375000.00\">\n",
      "                    375,000\n",
      "                   </option>\n",
      "                   <option value=\"400000.00\">\n",
      "                    400,000\n",
      "                   </option>\n",
      "                   <option value=\"425000.00\">\n",
      "                    425,000\n",
      "                   </option>\n",
      "                   <option value=\"450000.00\">\n",
      "                    450,000\n",
      "                   </option>\n",
      "                   <option value=\"475000.00\">\n",
      "                    475,000\n",
      "                   </option>\n",
      "                   <option value=\"500000.00\">\n",
      "                    500,000\n",
      "                   </option>\n",
      "                   <option value=\"550000.00\">\n",
      "                    550,000\n",
      "                   </option>\n",
      "                   <option value=\"600000.00\">\n",
      "                    600,000\n",
      "                   </option>\n",
      "                   <option value=\"650000.00\">\n",
      "                    650,000\n",
      "                   </option>\n",
      "                   <option value=\"700000.00\">\n",
      "                    700,000\n",
      "                   </option>\n",
      "                   <option value=\"750000.00\">\n",
      "                    750,000\n",
      "                   </option>\n",
      "                   <option value=\"800000.00\">\n",
      "                    800,000\n",
      "                   </option>\n",
      "                   <option value=\"850000.00\">\n",
      "                    850,000\n",
      "                   </option>\n",
      "                   <option value=\"900000.00\">\n",
      "                    900,000\n",
      "                   </option>\n",
      "                   <option value=\"950000.00\">\n",
      "                    950,000\n",
      "                   </option>\n",
      "                   <option value=\"1000000.00\">\n",
      "                    1,000,000\n",
      "                   </option>\n",
      "                   <option value=\"1250000.00\">\n",
      "                    1,250,000\n",
      "                   </option>\n",
      "                   <option value=\"1500000.00\">\n",
      "                    1,500,000\n",
      "                   </option>\n",
      "                   <option value=\"1750000.00\">\n",
      "                    1,750,000\n",
      "                   </option>\n",
      "                   <option value=\"2000000.00\">\n",
      "                    2,000,000\n",
      "                   </option>\n",
      "                   <option value=\"2250000.00\">\n",
      "                    2,250,000\n",
      "                   </option>\n",
      "                   <option value=\"2500000.00\">\n",
      "                    2,500,000\n",
      "                   </option>\n",
      "                   <option value=\"3000000.00\">\n",
      "                    3,000,000\n",
      "                   </option>\n",
      "                   <option value=\"3500000.00\">\n",
      "                    3,500,000\n",
      "                   </option>\n",
      "                   <option value=\"4000000.00\">\n",
      "                    4,000,000\n",
      "                   </option>\n",
      "                   <option value=\"4500000.00\">\n",
      "                    4,500,000\n",
      "                   </option>\n",
      "                   <option value=\"5000000.00\">\n",
      "                    5,000,000\n",
      "                   </option>\n",
      "                   <option value=\"6000000.00\">\n",
      "                    6,000,000\n",
      "                   </option>\n",
      "                   <option value=\"7000000.00\">\n",
      "                    7,000,000\n",
      "                   </option>\n",
      "                   <option value=\"8000000.00\">\n",
      "                    8,000,000\n",
      "                   </option>\n",
      "                   <option value=\"9000000.00\">\n",
      "                    9,000,000\n",
      "                   </option>\n",
      "                   <option value=\"10000000.00\">\n",
      "                    10,000,000\n",
      "                   </option>\n",
      "                   <option value=\"11000000.00\">\n",
      "                    11,000,000\n",
      "                   </option>\n",
      "                   <option value=\"12000000.00\">\n",
      "                    12,000,000\n",
      "                   </option>\n",
      "                   <option value=\"13000000.00\">\n",
      "                    13,000,000\n",
      "                   </option>\n",
      "                   <option value=\"14000000.00\">\n",
      "                    14,000,000\n",
      "                   </option>\n",
      "                   <option value=\"15000000.00\">\n",
      "                    15,000,000\n",
      "                   </option>\n",
      "                  </select>\n",
      "                 </font>\n",
      "                </td>\n",
      "               </tr>\n",
      "               <tr>\n",
      "                <td class=\"content\" width=\"35%\">\n",
      "                 <font color=\"#FFFFFF\" face=\"Tahoma, Verdana, Arial\" size=\"1\">\n",
      "                  <strong>\n",
      "                   How\n",
      "\n",
      "                          long do you need the coverage?\n",
      "                  </strong>\n",
      "                 </font>\n",
      "                </td>\n",
      "                <td align=\"left\" class=\"content\" valign=\"middle\" width=\"65%\">\n",
      "                 <font face=\"Tahoma, Verdana, Arial\">\n",
      "                  <select id=\"FormsComboBox10\" name=\"plan\" size=\"1\">\n",
      "                   <option selected=\"\" value=\"\">\n",
      "                    Select Year\n",
      "                   </option>\n",
      "                   <option value=\"5\">\n",
      "                    5 Years\n",
      "                   </option>\n",
      "                   <option value=\"10\">\n",
      "                    10 Years\n",
      "                   </option>\n",
      "                   <option value=\"15\">\n",
      "                    15 Years\n",
      "                   </option>\n",
      "                   <option value=\"20\">\n",
      "                    20 Years\n",
      "                   </option>\n",
      "                   <option value=\"25\">\n",
      "                    25 Years\n",
      "                   </option>\n",
      "                   <option value=\"30\">\n",
      "                    30 Years\n",
      "                   </option>\n",
      "                  </select>\n",
      "                 </font>\n",
      "                </td>\n",
      "               </tr>\n",
      "               <tr>\n",
      "                <td height=\"2\" width=\"35%\">\n",
      "                </td>\n",
      "                <td align=\"left\" class=\"content\" height=\"2\" valign=\"top\" width=\"65%\">\n",
      "                 <font face=\"Tahoma, Verdana, Arial\">\n",
      "                  <input id=\"FormsButton1\" name=\"SubmitButton\" type=\"submit\" value=\"Get A Quote\"/>\n",
      "                 </font>\n",
      "                </td>\n",
      "               </tr>\n",
      "              </tbody>\n",
      "             </table>\n",
      "            </td>\n",
      "           </tr>\n",
      "          </tbody>\n",
      "         </table>\n",
      "        </form>\n",
      "       </td>\n",
      "      </tr>\n",
      "     </table>\n",
      "     <td align=\"left\" height=\"377\" valign=\"top\" width=\"44%\">\n",
      "      <a href=\"http://theadmanager.com/server/c.asp?ad_key=YUESBHWAKMLK&amp;ext=1\" target=\"_blank\">\n",
      "       <img border=\"0\" height=\"173\" src=\"http://www.reliaquote.com/banner/bannerads/images/photo6.jpg\" width=\"210\"/>\n",
      "      </a>\n",
      "      <br/>\n",
      "      <table border=\"0\" cellpadding=\"0\" cellspacing=\"0\" width=\"100%\">\n",
      "       <tr align=\"center\" valign=\"top\">\n",
      "        <td height=\"217\" nowrap=\"\">\n",
      "         <table border=\"0\" cellpadding=\"10\" cellspacing=\"0\" width=\"100%\">\n",
      "          <tr align=\"left\" valign=\"top\">\n",
      "           <td height=\"40\">\n",
      "            <div align=\"center\">\n",
      "             <font color=\"#FFFFFF\" face=\"Tahoma, Verdana, Arial\" size=\"1\">\n",
      "              <b>\n",
      "               ReliaQuote\n",
      "\n",
      "                    makes it easy and affordable. We can instantly provide you\n",
      "\n",
      "                    with free quotes from highly rated insurance companies.\n",
      "              </b>\n",
      "             </font>\n",
      "            </div>\n",
      "           </td>\n",
      "          </tr>\n",
      "         </table>\n",
      "         <table border=\"0\" cellpadding=\"0\" cellspacing=\"0\" width=\"100%\">\n",
      "          <tr align=\"left\" valign=\"top\">\n",
      "           <td height=\"106\">\n",
      "            <table border=\"0\" cellpadding=\"0\" cellspacing=\"0\" width=\"100%\">\n",
      "             <tr align=\"center\" valign=\"top\">\n",
      "              <td height=\"2\">\n",
      "               <font color=\"#FFFFFF\" face=\"Tahoma, Verdana, Arial\" size=\"3\">\n",
      "                <b>\n",
      "                 Save\n",
      "\n",
      "                        up to\n",
      "                </b>\n",
      "               </font>\n",
      "              </td>\n",
      "             </tr>\n",
      "             <tr align=\"center\" valign=\"top\">\n",
      "              <td height=\"36\">\n",
      "               <a href=\"http://theadmanager.com/server/c.asp?ad_key=YUESBHWAKMLK&amp;ext=1\" target=\"_blank\">\n",
      "                <img border=\"0\" height=\"57\" src=\"http://www.reliaquote.com/banner/bannerads/images/70percent6.gif\" width=\"131\"/>\n",
      "               </a>\n",
      "              </td>\n",
      "             </tr>\n",
      "             <tr align=\"center\" valign=\"top\">\n",
      "              <td height=\"8\">\n",
      "               <font color=\"#FFFFFF\" face=\"Tahoma, Verdana, Arial\" size=\"3\">\n",
      "                <b>\n",
      "                 on\n",
      "\n",
      "                        Life Insurance\n",
      "                </b>\n",
      "               </font>\n",
      "              </td>\n",
      "             </tr>\n",
      "            </table>\n",
      "           </td>\n",
      "          </tr>\n",
      "          <tr align=\"center\" valign=\"middle\">\n",
      "           <td height=\"67\">\n",
      "            <font color=\"#FFCC33\" face=\"Tahoma, Verdana, Arial\" size=\"3\">\n",
      "             <b>\n",
      "              <font color=\"#FFCC99\" size=\"2\">\n",
      "               <a href=\"http://theadmanager.com/server/c.asp?ad_key=YUESBHWAKMLK&amp;ext=1\" target=\"_blank\">\n",
      "                <font color=\"#FFFFFF\">\n",
      "                 Compare quotes today\n",
      "                </font>\n",
      "               </a>\n",
      "               <font color=\"#FFFFFF\">\n",
      "                .\n",
      "               </font>\n",
      "              </font>\n",
      "              <font color=\"#0000FF\" face=\"Tahoma, Verdana, Arial\" size=\"2\">\n",
      "              </font>\n",
      "              <font color=\"#FFCC00\" face=\"Tahoma, Verdana, Arial\" size=\"2\">\n",
      "               <br/>\n",
      "               There is nothing more\n",
      "               <br/>\n",
      "               important than protecting\n",
      "               <br/>\n",
      "               their future.\n",
      "               <br/>\n",
      "              </font>\n",
      "             </b>\n",
      "            </font>\n",
      "           </td>\n",
      "          </tr>\n",
      "         </table>\n",
      "        </td>\n",
      "       </tr>\n",
      "      </table>\n",
      "      <div align=\"center\">\n",
      "       <font color=\"#FFFFFF\" size=\"1\">\n",
      "        Copyright 2001 ReliaQuote,\n",
      "\n",
      "        Inc.\n",
      "        <br/>\n",
      "        All rights reserved.\n",
      "       </font>\n",
      "      </div>\n",
      "     </td>\n",
      "    </td>\n",
      "   </tr>\n",
      "  </table>\n",
      "  <img alt=\"T\" border=\"0\" height=\"1\" hspace=\"0\" src=\"http://admanmail.com/server/t.asp?ad_key=YUESBHWAKMLK\" vspace=\"0\" width=\"1\"/>\n",
      "  <hr noshade=\"\" size=\"1\"/>\n",
      "  <font color=\"#000000\" face=\"Arial\" size=\"1\">\n",
      "   You are receiving this mailing because you are a\n",
      "\n",
      "member of SendGreatOffers.com and subscribed as:JM@NETNOTEINC.COM\n",
      "\n",
      "To unsubscribe\n",
      "   <a href=\"http://admanmail.com/subscription.asp?em=JM@NETNOTEINC.COM&amp;l=SGO\">\n",
      "    <font color=\"#000000\" face=\"arial\" size=\"1\">\n",
      "     Click Here\n",
      "    </font>\n",
      "   </a>\n",
      "   (http://admanmail.com/subscription.asp?em=JM@NETNOTEINC.COM&amp;l;=SGO)\n",
      "\n",
      "or reply to this email with REMOVE in the subject line - you must\n",
      "\n",
      "also include the body of this message to be unsubscribed. Any correspondence about\n",
      "\n",
      "the products/services should be directed to\n",
      "\n",
      "the company in the ad.\n",
      "\n",
      "%EM%JM@NETNOTEINC.COM%/EM%\n",
      "   <br/>\n",
      "  </font>\n",
      " </body>\n",
      "</html>\n",
      "\n"
     ]
    }
   ],
   "source": [
    "soup = BeautifulSoup(data.at[7, 'MESSAGE'], 'html.parser') #better view\n",
    "print(soup.prettify())"
   ]
  },
  {
   "cell_type": "code",
   "execution_count": 49,
   "metadata": {},
   "outputs": [
    {
     "data": {
      "text/plain": [
       "\"\\n\\nReliaQuote - Save Up To 70% On Life Insurance\\n\\n\\n\\n\\n\\n\\n\\n\\n\\n\\n\\n\\n\\xa0\\n\\n\\n\\n\\n\\n\\n\\n\\n\\n\\n\\n\\n\\n\\n\\n\\n\\n\\nLife\\n\\n                                can change in an instant. That's why it is so\\n\\n                                important to protect your family's financial future\\n\\n                                with sufficient life insurance coverage.\\n\\n\\n\\n\\n\\n\\n\\n\\n\\n\\n\\n\\n\\n\\n\\n\\n\\n\\n\\n\\n\\n\\n\\n\\n\\nState\\n\\n                          of Residence:\\n\\n\\n\\nSelect State\\nAlabama\\nAlaska\\nArizona\\nArkansas\\nCalifornia\\nColorado\\nConnecticut\\nDelaware\\nDist. of Columbia\\nFlorida\\nGeorgia\\nHawaii\\nIdaho\\nIllinois\\nIndiana\\nIowa\\nKansas\\nKentucky\\nLouisiana\\nMaine\\nMaryland\\nMassachusetts\\nMichigan\\nMinnesota\\nMississippi\\nMissouri\\nMontana\\nNebraska\\nNevada\\nNew Hampshire\\nNew Jersey\\nNew Mexico\\nNew York\\nNorth Carolina\\nNorth Dakota\\nOhio\\nOklahoma\\nOregon\\nPennsylvania\\nRhode Island\\nSouth Carolina\\nSouth Dakota\\nTennessee\\nTexas\\nUtah\\nVermont\\nVirginia\\nWashington\\nWest Virginia\\nWisconsin\\nWyoming\\n\\n\\n\\n\\nDate\\n\\n                          of Birth (MM/DD/YY):\\n \\n\\nMM\\n01\\n02\\n03\\n04\\n05\\n06\\n07\\n08\\n09\\n10\\n11\\n12\\n\\n\\n                          /\\n\\n                          \\nDD\\n01\\n02\\n03\\n04\\n05\\n06\\n07\\n08\\n09\\n10\\n11\\n12\\n13\\n14\\n15\\n16\\n17\\n18\\n19\\n20\\n21\\n22\\n23\\n24\\n25\\n26\\n27\\n28\\n29\\n30\\n31\\n\\n\\n                          /\\n\\n                          \\nYY\\n13\\n14\\n15\\n16\\n17\\n18\\n19\\n20\\n21\\n22\\n23\\n24\\n25\\n26\\n27\\n28\\n29\\n30\\n31\\n32\\n33\\n34\\n35\\n36\\n37\\n38\\n39\\n40\\n41\\n42\\n43\\n44\\n45\\n46\\n47\\n48\\n49\\n50\\n51\\n52\\n53\\n54\\n55\\n56\\n57\\n58\\n59\\n60\\n61\\n62\\n63\\n64\\n65\\n66\\n67\\n68\\n69\\n70\\n71\\n72\\n73\\n74\\n75\\n76\\n77\\n78\\n79\\n80\\n81\\n82\\n83\\n84\\n\\n\\n\\n\\nSex:\\n\\n\\n\\n\\n \\n\\n\\n                                Male\\n \\n\\n\\n                                Female\\n\\n\\n\\n\\n\\n\\nHave\\n\\n                          you used any tobacco products in the last 12 months?\\n\\n\\n\\n\\n \\n\\n\\n                                No\\n \\n\\n\\n                                Yes\\n\\n\\n\\n\\n\\n\\nCoverage\\n\\n                          Amount:\\n\\n\\n\\nSelect Amount\\n100,000\\n125,000\\n150,000\\n175,000\\n200,000\\n225,000\\n250,000\\n275,000\\n300,000\\n325,000\\n350,000\\n375,000\\n400,000\\n425,000\\n450,000\\n475,000\\n500,000\\n550,000\\n600,000\\n650,000\\n700,000\\n750,000\\n800,000\\n850,000\\n900,000\\n950,000\\n1,000,000\\n1,250,000\\n1,500,000\\n1,750,000\\n2,000,000\\n2,250,000\\n2,500,000\\n3,000,000\\n3,500,000\\n4,000,000\\n4,500,000\\n5,000,000\\n6,000,000\\n7,000,000\\n8,000,000\\n9,000,000\\n10,000,000\\n11,000,000\\n12,000,000\\n13,000,000\\n14,000,000\\n15,000,000\\n\\n\\n\\n\\nHow\\n\\n                          long do you need the coverage?\\n\\n\\n\\nSelect Year\\n5 Years\\n10 Years\\n15 Years\\n20 Years\\n25 Years\\n30 Years\\n\\n\\n\\n\\n\\xa0 \\n\\n\\n\\n\\n\\n\\n\\n\\n\\n\\n\\n\\n\\n\\n\\n\\n\\n\\n\\n\\n\\n\\nReliaQuote\\n\\n                    makes it easy and affordable. We can instantly provide you\\n\\n                    with free quotes from highly rated insurance companies. \\n\\n\\n\\n\\n\\n\\n\\n\\nSave\\n\\n                        up to\\n\\n\\n\\n\\n\\non\\n\\n                        Life Insurance\\n\\n\\n\\n\\n\\n\\nCompare quotes today.\\n\\n\\n                  There is nothing more \\n\\n                  important than protecting \\n\\n                  their future.\\n\\n\\n\\n\\n\\n\\nCopyright 2001 ReliaQuote,\\n\\n        Inc.\\n\\n        All rights reserved.\\n\\n\\n\\n\\n\\n\\n\\nYou are receiving this mailing because you are a\\n\\nmember of SendGreatOffers.com and subscribed as:JM@NETNOTEINC.COM\\n\\nTo unsubscribe \\nClick Here\\n\\n(http://admanmail.com/subscription.asp?em=JM@NETNOTEINC.COM&l;=SGO)\\n\\nor reply to this email with REMOVE in the subject line - you must\\n\\nalso include the body of this message to be unsubscribed. Any correspondence about\\n\\nthe products/services should be directed to\\n\\nthe company in the ad.\\n\\n%EM%JM@NETNOTEINC.COM%/EM%\\n\\n  \\n\""
      ]
     },
     "execution_count": 49,
     "metadata": {},
     "output_type": "execute_result"
    }
   ],
   "source": [
    "soup.get_text() #remove html tags"
   ]
  },
  {
   "cell_type": "markdown",
   "metadata": {},
   "source": [
    "## Functions for Email Processing"
   ]
  },
  {
   "cell_type": "code",
   "execution_count": 50,
   "metadata": {},
   "outputs": [],
   "source": [
    "def clean_message(message, stop_words = set(stopwords.words('english')),\n",
    "                 stemmer = PorterStemmer()):\n",
    "    filtered_word = []\n",
    "    words = word_tokenize(message.lower())\n",
    "    \n",
    "    for word in words:\n",
    "        if word not in stop_words and word.isalpha():\n",
    "            stemmed_word = stemmer.stem(word)\n",
    "            filtered_word.append(stemmed_word)\n",
    "    \n",
    "    return filtered_word"
   ]
  },
  {
   "cell_type": "code",
   "execution_count": 51,
   "metadata": {},
   "outputs": [
    {
     "data": {
      "text/plain": [
       "['html',\n",
       " 'head',\n",
       " 'titl',\n",
       " 'reliaquot',\n",
       " 'save',\n",
       " 'life',\n",
       " 'insur',\n",
       " 'meta',\n",
       " 'bodi',\n",
       " 'tabl',\n",
       " 'center',\n",
       " 'tr',\n",
       " 'td',\n",
       " 'left',\n",
       " 'top',\n",
       " 'tabl',\n",
       " 'tr',\n",
       " 'td',\n",
       " 'http',\n",
       " 'img',\n",
       " 'http',\n",
       " 'td',\n",
       " 'left',\n",
       " 'top',\n",
       " 'nbsp',\n",
       " 'tr',\n",
       " 'td',\n",
       " 'left',\n",
       " 'top',\n",
       " 'tabl',\n",
       " 'tr',\n",
       " 'right',\n",
       " 'top',\n",
       " 'ffccff',\n",
       " 'td',\n",
       " 'img',\n",
       " 'http',\n",
       " 'tr',\n",
       " 'center',\n",
       " 'top',\n",
       " 'td',\n",
       " 'tabl',\n",
       " 'tr',\n",
       " 'center',\n",
       " 'top',\n",
       " 'td',\n",
       " 'tabl',\n",
       " 'tr',\n",
       " 'left',\n",
       " 'top',\n",
       " 'td',\n",
       " 'tabl',\n",
       " 'tr',\n",
       " 'center',\n",
       " 'top',\n",
       " 'td',\n",
       " 'p',\n",
       " 'font',\n",
       " 'tahoma',\n",
       " 'verdana',\n",
       " 'arial',\n",
       " 'b',\n",
       " 'life',\n",
       " 'chang',\n",
       " 'instant',\n",
       " 'import',\n",
       " 'protect',\n",
       " 'famili',\n",
       " 'financi',\n",
       " 'futur',\n",
       " 'suffici',\n",
       " 'life',\n",
       " 'insur',\n",
       " 'tr',\n",
       " 'center',\n",
       " 'middl',\n",
       " 'td',\n",
       " 'font',\n",
       " 'b',\n",
       " 'img',\n",
       " 'http',\n",
       " 'tr',\n",
       " 'left',\n",
       " 'top',\n",
       " 'td',\n",
       " 'form',\n",
       " 'http',\n",
       " 'get',\n",
       " 'input',\n",
       " 'tabl',\n",
       " 'tbodi',\n",
       " 'tr',\n",
       " 'td',\n",
       " 'tabl',\n",
       " 'tbodi',\n",
       " 'tr',\n",
       " 'td',\n",
       " 'font',\n",
       " 'tahoma',\n",
       " 'verdana',\n",
       " 'arial',\n",
       " 'ffffff',\n",
       " 'strong',\n",
       " 'state',\n",
       " 'resid',\n",
       " 'td',\n",
       " 'left',\n",
       " 'middl',\n",
       " 'font',\n",
       " 'tahoma',\n",
       " 'verdana',\n",
       " 'arial',\n",
       " 'select',\n",
       " 'option',\n",
       " 'select',\n",
       " 'select',\n",
       " 'state',\n",
       " 'option',\n",
       " 'alabama',\n",
       " 'option',\n",
       " 'alaska',\n",
       " 'option',\n",
       " 'arizona',\n",
       " 'option',\n",
       " 'arkansa',\n",
       " 'option',\n",
       " 'california',\n",
       " 'option',\n",
       " 'colorado',\n",
       " 'option',\n",
       " 'connecticut',\n",
       " 'option',\n",
       " 'delawar',\n",
       " 'option',\n",
       " 'dist',\n",
       " 'columbia',\n",
       " 'option',\n",
       " 'florida',\n",
       " 'option',\n",
       " 'georgia',\n",
       " 'option',\n",
       " 'hawaii',\n",
       " 'option',\n",
       " 'idaho',\n",
       " 'option',\n",
       " 'illinoi',\n",
       " 'option',\n",
       " 'indiana',\n",
       " 'option',\n",
       " 'iowa',\n",
       " 'option',\n",
       " 'kansa',\n",
       " 'option',\n",
       " 'kentucki',\n",
       " 'option',\n",
       " 'louisiana',\n",
       " 'option',\n",
       " 'main',\n",
       " 'option',\n",
       " 'maryland',\n",
       " 'option',\n",
       " 'massachusett',\n",
       " 'option',\n",
       " 'michigan',\n",
       " 'option',\n",
       " 'minnesota',\n",
       " 'option',\n",
       " 'mississippi',\n",
       " 'option',\n",
       " 'missouri',\n",
       " 'option',\n",
       " 'montana',\n",
       " 'option',\n",
       " 'nebraska',\n",
       " 'option',\n",
       " 'nevada',\n",
       " 'option',\n",
       " 'new',\n",
       " 'hampshir',\n",
       " 'new',\n",
       " 'hampshir',\n",
       " 'option',\n",
       " 'new',\n",
       " 'jersey',\n",
       " 'new',\n",
       " 'jersey',\n",
       " 'option',\n",
       " 'new',\n",
       " 'mexico',\n",
       " 'new',\n",
       " 'mexico',\n",
       " 'option',\n",
       " 'new',\n",
       " 'york',\n",
       " 'new',\n",
       " 'york',\n",
       " 'option',\n",
       " 'north',\n",
       " 'carolina',\n",
       " 'north',\n",
       " 'carolina',\n",
       " 'option',\n",
       " 'north',\n",
       " 'dakota',\n",
       " 'north',\n",
       " 'dakota',\n",
       " 'option',\n",
       " 'ohio',\n",
       " 'option',\n",
       " 'oklahoma',\n",
       " 'option',\n",
       " 'oregon',\n",
       " 'option',\n",
       " 'pennsylvania',\n",
       " 'option',\n",
       " 'rhode',\n",
       " 'island',\n",
       " 'rhode',\n",
       " 'island',\n",
       " 'option',\n",
       " 'south',\n",
       " 'carolina',\n",
       " 'south',\n",
       " 'carolina',\n",
       " 'option',\n",
       " 'south',\n",
       " 'dakota',\n",
       " 'south',\n",
       " 'dakota',\n",
       " 'option',\n",
       " 'tennesse',\n",
       " 'option',\n",
       " 'texa',\n",
       " 'option',\n",
       " 'utah',\n",
       " 'option',\n",
       " 'vermont',\n",
       " 'option',\n",
       " 'virginia',\n",
       " 'option',\n",
       " 'washington',\n",
       " 'option',\n",
       " 'west',\n",
       " 'virginia',\n",
       " 'west',\n",
       " 'virginia',\n",
       " 'option',\n",
       " 'wisconsin',\n",
       " 'option',\n",
       " 'wyom',\n",
       " 'tr',\n",
       " 'td',\n",
       " 'font',\n",
       " 'tahoma',\n",
       " 'verdana',\n",
       " 'arial',\n",
       " 'ffffff',\n",
       " 'strong',\n",
       " 'date',\n",
       " 'birth',\n",
       " 'td',\n",
       " 'nowrap',\n",
       " 'left',\n",
       " 'middl',\n",
       " 'font',\n",
       " 'tahoma',\n",
       " 'verdana',\n",
       " 'arial',\n",
       " 'select',\n",
       " 'option',\n",
       " 'select',\n",
       " 'mm',\n",
       " 'option',\n",
       " 'option',\n",
       " 'option',\n",
       " 'option',\n",
       " 'option',\n",
       " 'option',\n",
       " 'option',\n",
       " 'option',\n",
       " 'option',\n",
       " 'option',\n",
       " 'option',\n",
       " 'option',\n",
       " 'select',\n",
       " 'option',\n",
       " 'select',\n",
       " 'dd',\n",
       " 'option',\n",
       " 'option',\n",
       " 'option',\n",
       " 'option',\n",
       " 'option',\n",
       " 'option',\n",
       " 'option',\n",
       " 'option',\n",
       " 'option',\n",
       " 'option',\n",
       " 'option',\n",
       " 'option',\n",
       " 'option',\n",
       " 'option',\n",
       " 'option',\n",
       " 'option',\n",
       " 'option',\n",
       " 'option',\n",
       " 'option',\n",
       " 'option',\n",
       " 'option',\n",
       " 'option',\n",
       " 'option',\n",
       " 'option',\n",
       " 'option',\n",
       " 'option',\n",
       " 'option',\n",
       " 'option',\n",
       " 'option',\n",
       " 'option',\n",
       " 'option',\n",
       " 'select',\n",
       " 'option',\n",
       " 'select',\n",
       " 'yy',\n",
       " 'option',\n",
       " 'option',\n",
       " 'option',\n",
       " 'option',\n",
       " 'option',\n",
       " 'option',\n",
       " 'option',\n",
       " 'option',\n",
       " 'option',\n",
       " 'option',\n",
       " 'option',\n",
       " 'option',\n",
       " 'option',\n",
       " 'option',\n",
       " 'option',\n",
       " 'option',\n",
       " 'option',\n",
       " 'option',\n",
       " 'option',\n",
       " 'option',\n",
       " 'option',\n",
       " 'option',\n",
       " 'option',\n",
       " 'option',\n",
       " 'option',\n",
       " 'option',\n",
       " 'option',\n",
       " 'option',\n",
       " 'option',\n",
       " 'option',\n",
       " 'option',\n",
       " 'option',\n",
       " 'option',\n",
       " 'option',\n",
       " 'option',\n",
       " 'option',\n",
       " 'option',\n",
       " 'option',\n",
       " 'option',\n",
       " 'option',\n",
       " 'option',\n",
       " 'option',\n",
       " 'option',\n",
       " 'option',\n",
       " 'option',\n",
       " 'option',\n",
       " 'option',\n",
       " 'option',\n",
       " 'option',\n",
       " 'option',\n",
       " 'option',\n",
       " 'option',\n",
       " 'option',\n",
       " 'option',\n",
       " 'option',\n",
       " 'option',\n",
       " 'option',\n",
       " 'option',\n",
       " 'option',\n",
       " 'option',\n",
       " 'option',\n",
       " 'option',\n",
       " 'option',\n",
       " 'option',\n",
       " 'option',\n",
       " 'option',\n",
       " 'option',\n",
       " 'option',\n",
       " 'option',\n",
       " 'option',\n",
       " 'option',\n",
       " 'option',\n",
       " 'tr',\n",
       " 'td',\n",
       " 'font',\n",
       " 'tahoma',\n",
       " 'verdana',\n",
       " 'arial',\n",
       " 'ffffff',\n",
       " 'strong',\n",
       " 'sex',\n",
       " 'td',\n",
       " 'nowrap',\n",
       " 'left',\n",
       " 'middl',\n",
       " 'tabl',\n",
       " 'tbodi',\n",
       " 'tr',\n",
       " 'td',\n",
       " 'font',\n",
       " 'ffffff',\n",
       " 'tahoma',\n",
       " 'verdana',\n",
       " 'arial',\n",
       " 'b',\n",
       " 'input',\n",
       " 'male',\n",
       " 'td',\n",
       " 'font',\n",
       " 'ffffff',\n",
       " 'tahoma',\n",
       " 'verdana',\n",
       " 'arial',\n",
       " 'b',\n",
       " 'input',\n",
       " 'femal',\n",
       " 'tr',\n",
       " 'td',\n",
       " 'font',\n",
       " 'tahoma',\n",
       " 'verdana',\n",
       " 'arial',\n",
       " 'ffffff',\n",
       " 'strong',\n",
       " 'use',\n",
       " 'tobacco',\n",
       " 'product',\n",
       " 'last',\n",
       " 'month',\n",
       " 'td',\n",
       " 'nowrap',\n",
       " 'left',\n",
       " 'middl',\n",
       " 'tabl',\n",
       " 'tbodi',\n",
       " 'tr',\n",
       " 'td',\n",
       " 'b',\n",
       " 'font',\n",
       " 'tahoma',\n",
       " 'verdana',\n",
       " 'arial',\n",
       " 'ffffff',\n",
       " 'input',\n",
       " 'td',\n",
       " 'b',\n",
       " 'font',\n",
       " 'tahoma',\n",
       " 'verdana',\n",
       " 'arial',\n",
       " 'ffffff',\n",
       " 'input',\n",
       " 'ye',\n",
       " 'tr',\n",
       " 'td',\n",
       " 'font',\n",
       " 'tahoma',\n",
       " 'verdana',\n",
       " 'arial',\n",
       " 'ffffff',\n",
       " 'strong',\n",
       " 'coverag',\n",
       " 'amount',\n",
       " 'td',\n",
       " 'left',\n",
       " 'middl',\n",
       " 'font',\n",
       " 'tahoma',\n",
       " 'verdana',\n",
       " 'arial',\n",
       " 'select',\n",
       " 'option',\n",
       " 'select',\n",
       " 'select',\n",
       " 'amount',\n",
       " 'option',\n",
       " 'option',\n",
       " 'option',\n",
       " 'option',\n",
       " 'option',\n",
       " 'option',\n",
       " 'option',\n",
       " 'option',\n",
       " 'option',\n",
       " 'option',\n",
       " 'option',\n",
       " 'option',\n",
       " 'option',\n",
       " 'option',\n",
       " 'option',\n",
       " 'option',\n",
       " 'option',\n",
       " 'option',\n",
       " 'option',\n",
       " 'option',\n",
       " 'option',\n",
       " 'option',\n",
       " 'option',\n",
       " 'option',\n",
       " 'option',\n",
       " 'option',\n",
       " 'option',\n",
       " 'option',\n",
       " 'option',\n",
       " 'option',\n",
       " 'option',\n",
       " 'option',\n",
       " 'option',\n",
       " 'option',\n",
       " 'option',\n",
       " 'option',\n",
       " 'option',\n",
       " 'option',\n",
       " 'option',\n",
       " 'option',\n",
       " 'option',\n",
       " 'option',\n",
       " 'option',\n",
       " 'option',\n",
       " 'option',\n",
       " 'option',\n",
       " 'option',\n",
       " 'option',\n",
       " 'tr',\n",
       " 'td',\n",
       " 'font',\n",
       " 'tahoma',\n",
       " 'verdana',\n",
       " 'arial',\n",
       " 'ffffff',\n",
       " 'strong',\n",
       " 'long',\n",
       " 'need',\n",
       " 'coverag',\n",
       " 'td',\n",
       " 'left',\n",
       " 'middl',\n",
       " 'font',\n",
       " 'tahoma',\n",
       " 'verdana',\n",
       " 'arial',\n",
       " 'select',\n",
       " 'option',\n",
       " 'select',\n",
       " 'select',\n",
       " 'year',\n",
       " 'option',\n",
       " 'year',\n",
       " 'option',\n",
       " 'year',\n",
       " 'option',\n",
       " 'year',\n",
       " 'option',\n",
       " 'year',\n",
       " 'option',\n",
       " 'year',\n",
       " 'option',\n",
       " 'year',\n",
       " 'tr',\n",
       " 'td',\n",
       " 'nbsp',\n",
       " 'td',\n",
       " 'top',\n",
       " 'font',\n",
       " 'tahoma',\n",
       " 'verdana',\n",
       " 'arial',\n",
       " 'input',\n",
       " 'get',\n",
       " 'quot',\n",
       " 'td',\n",
       " 'left',\n",
       " 'top',\n",
       " 'http',\n",
       " 'img',\n",
       " 'http',\n",
       " 'br',\n",
       " 'tabl',\n",
       " 'tr',\n",
       " 'center',\n",
       " 'top',\n",
       " 'td',\n",
       " 'nowrap',\n",
       " 'tabl',\n",
       " 'tr',\n",
       " 'left',\n",
       " 'top',\n",
       " 'td',\n",
       " 'div',\n",
       " 'center',\n",
       " 'font',\n",
       " 'tahoma',\n",
       " 'verdana',\n",
       " 'arial',\n",
       " 'ffffff',\n",
       " 'b',\n",
       " 'reliaquot',\n",
       " 'make',\n",
       " 'easi',\n",
       " 'afford',\n",
       " 'instantli',\n",
       " 'provid',\n",
       " 'free',\n",
       " 'quot',\n",
       " 'highli',\n",
       " 'rate',\n",
       " 'insur',\n",
       " 'compani',\n",
       " 'tabl',\n",
       " 'tr',\n",
       " 'left',\n",
       " 'top',\n",
       " 'td',\n",
       " 'tabl',\n",
       " 'tr',\n",
       " 'center',\n",
       " 'top',\n",
       " 'td',\n",
       " 'font',\n",
       " 'tahoma',\n",
       " 'verdana',\n",
       " 'arial',\n",
       " 'ffffff',\n",
       " 'b',\n",
       " 'save',\n",
       " 'tr',\n",
       " 'center',\n",
       " 'top',\n",
       " 'td',\n",
       " 'http',\n",
       " 'img',\n",
       " 'http',\n",
       " 'tr',\n",
       " 'center',\n",
       " 'top',\n",
       " 'td',\n",
       " 'font',\n",
       " 'tahoma',\n",
       " 'verdana',\n",
       " 'arial',\n",
       " 'ffffff',\n",
       " 'b',\n",
       " 'life',\n",
       " 'insur',\n",
       " 'tr',\n",
       " 'center',\n",
       " 'middl',\n",
       " 'td',\n",
       " 'font',\n",
       " 'tahoma',\n",
       " 'verdana',\n",
       " 'arial',\n",
       " 'b',\n",
       " 'font',\n",
       " 'http',\n",
       " 'font',\n",
       " 'ffffff',\n",
       " 'compar',\n",
       " 'quot',\n",
       " 'today',\n",
       " 'font',\n",
       " 'ffffff',\n",
       " 'font',\n",
       " 'tahoma',\n",
       " 'verdana',\n",
       " 'arial',\n",
       " 'font',\n",
       " 'tahoma',\n",
       " 'verdana',\n",
       " 'arial',\n",
       " 'br',\n",
       " 'noth',\n",
       " 'br',\n",
       " 'import',\n",
       " 'protect',\n",
       " 'br',\n",
       " 'br',\n",
       " 'div',\n",
       " 'center',\n",
       " 'font',\n",
       " 'ffffff',\n",
       " 'copyright',\n",
       " 'reliaquot',\n",
       " 'br',\n",
       " 'right',\n",
       " 'img',\n",
       " 'http',\n",
       " 'hr',\n",
       " 'noshad',\n",
       " 'font',\n",
       " 'arial',\n",
       " 'receiv',\n",
       " 'mail',\n",
       " 'member',\n",
       " 'subscrib',\n",
       " 'jm',\n",
       " 'unsubscrib',\n",
       " 'http',\n",
       " 'font',\n",
       " 'arial',\n",
       " 'click',\n",
       " 'http',\n",
       " 'repli',\n",
       " 'email',\n",
       " 'remov',\n",
       " 'subject',\n",
       " 'line',\n",
       " 'must',\n",
       " 'also',\n",
       " 'includ',\n",
       " 'bodi',\n",
       " 'messag',\n",
       " 'unsubscrib',\n",
       " 'correspond',\n",
       " 'direct',\n",
       " 'compani',\n",
       " 'ad',\n",
       " 'em',\n",
       " 'jm',\n",
       " 'br']"
      ]
     },
     "execution_count": 51,
     "metadata": {},
     "output_type": "execute_result"
    }
   ],
   "source": [
    "clean_message(data.at[7, 'MESSAGE'])"
   ]
  },
  {
   "cell_type": "code",
   "execution_count": 52,
   "metadata": {},
   "outputs": [],
   "source": [
    "def clean_message_no_html(message, stop_words = set(stopwords.words('english')),\n",
    "                 stemmer = PorterStemmer()):\n",
    "    filtered_word = []\n",
    "    \n",
    "    # clean html text\n",
    "    soup = BeautifulSoup(message, 'html.parser')\n",
    "    cleaned_text = soup.get_text()\n",
    "    \n",
    "    words = word_tokenize(cleaned_text.lower())\n",
    "    \n",
    "    for word in words:\n",
    "        # remove stopwords and punctuation\n",
    "        if word not in stop_words and word.isalpha():\n",
    "            stemmed_word = stemmer.stem(word) \n",
    "            filtered_word.append(stemmed_word)\n",
    "    \n",
    "    return filtered_word"
   ]
  },
  {
   "cell_type": "code",
   "execution_count": 53,
   "metadata": {},
   "outputs": [
    {
     "data": {
      "text/plain": [
       "['reliaquot',\n",
       " 'save',\n",
       " 'life',\n",
       " 'insur',\n",
       " 'life',\n",
       " 'chang',\n",
       " 'instant',\n",
       " 'import',\n",
       " 'protect',\n",
       " 'famili',\n",
       " 'financi',\n",
       " 'futur',\n",
       " 'suffici',\n",
       " 'life',\n",
       " 'insur',\n",
       " 'coverag',\n",
       " 'state',\n",
       " 'resid',\n",
       " 'select',\n",
       " 'state',\n",
       " 'alabama',\n",
       " 'alaska',\n",
       " 'arizona',\n",
       " 'arkansa',\n",
       " 'california',\n",
       " 'colorado',\n",
       " 'connecticut',\n",
       " 'delawar',\n",
       " 'dist',\n",
       " 'columbia',\n",
       " 'florida',\n",
       " 'georgia',\n",
       " 'hawaii',\n",
       " 'idaho',\n",
       " 'illinoi',\n",
       " 'indiana',\n",
       " 'iowa',\n",
       " 'kansa',\n",
       " 'kentucki',\n",
       " 'louisiana',\n",
       " 'main',\n",
       " 'maryland',\n",
       " 'massachusett',\n",
       " 'michigan',\n",
       " 'minnesota',\n",
       " 'mississippi',\n",
       " 'missouri',\n",
       " 'montana',\n",
       " 'nebraska',\n",
       " 'nevada',\n",
       " 'new',\n",
       " 'hampshir',\n",
       " 'new',\n",
       " 'jersey',\n",
       " 'new',\n",
       " 'mexico',\n",
       " 'new',\n",
       " 'york',\n",
       " 'north',\n",
       " 'carolina',\n",
       " 'north',\n",
       " 'dakota',\n",
       " 'ohio',\n",
       " 'oklahoma',\n",
       " 'oregon',\n",
       " 'pennsylvania',\n",
       " 'rhode',\n",
       " 'island',\n",
       " 'south',\n",
       " 'carolina',\n",
       " 'south',\n",
       " 'dakota',\n",
       " 'tennesse',\n",
       " 'texa',\n",
       " 'utah',\n",
       " 'vermont',\n",
       " 'virginia',\n",
       " 'washington',\n",
       " 'west',\n",
       " 'virginia',\n",
       " 'wisconsin',\n",
       " 'wyom',\n",
       " 'date',\n",
       " 'birth',\n",
       " 'mm',\n",
       " 'dd',\n",
       " 'yy',\n",
       " 'sex',\n",
       " 'male',\n",
       " 'femal',\n",
       " 'use',\n",
       " 'tobacco',\n",
       " 'product',\n",
       " 'last',\n",
       " 'month',\n",
       " 'ye',\n",
       " 'coverag',\n",
       " 'amount',\n",
       " 'select',\n",
       " 'amount',\n",
       " 'long',\n",
       " 'need',\n",
       " 'coverag',\n",
       " 'select',\n",
       " 'year',\n",
       " 'year',\n",
       " 'year',\n",
       " 'year',\n",
       " 'year',\n",
       " 'year',\n",
       " 'year',\n",
       " 'reliaquot',\n",
       " 'make',\n",
       " 'easi',\n",
       " 'afford',\n",
       " 'instantli',\n",
       " 'provid',\n",
       " 'free',\n",
       " 'quot',\n",
       " 'highli',\n",
       " 'rate',\n",
       " 'insur',\n",
       " 'compani',\n",
       " 'save',\n",
       " 'life',\n",
       " 'insur',\n",
       " 'compar',\n",
       " 'quot',\n",
       " 'today',\n",
       " 'noth',\n",
       " 'import',\n",
       " 'protect',\n",
       " 'futur',\n",
       " 'copyright',\n",
       " 'reliaquot',\n",
       " 'right',\n",
       " 'reserv',\n",
       " 'receiv',\n",
       " 'mail',\n",
       " 'member',\n",
       " 'subscrib',\n",
       " 'jm',\n",
       " 'unsubscrib',\n",
       " 'click',\n",
       " 'http',\n",
       " 'l',\n",
       " 'repli',\n",
       " 'email',\n",
       " 'remov',\n",
       " 'subject',\n",
       " 'line',\n",
       " 'must',\n",
       " 'also',\n",
       " 'includ',\n",
       " 'bodi',\n",
       " 'messag',\n",
       " 'unsubscrib',\n",
       " 'correspond',\n",
       " 'direct',\n",
       " 'compani',\n",
       " 'ad',\n",
       " 'em',\n",
       " 'jm']"
      ]
     },
     "execution_count": 53,
     "metadata": {},
     "output_type": "execute_result"
    }
   ],
   "source": [
    "clean_message_no_html(data.at[7, 'MESSAGE'])"
   ]
  },
  {
   "cell_type": "code",
   "execution_count": 54,
   "metadata": {},
   "outputs": [
    {
     "data": {
      "text/plain": [
       "733"
      ]
     },
     "execution_count": 54,
     "metadata": {},
     "output_type": "execute_result"
    }
   ],
   "source": [
    "len(clean_message(data.at[7, 'MESSAGE']))"
   ]
  },
  {
   "cell_type": "code",
   "execution_count": 55,
   "metadata": {},
   "outputs": [
    {
     "data": {
      "text/plain": [
       "163"
      ]
     },
     "execution_count": 55,
     "metadata": {},
     "output_type": "execute_result"
    }
   ],
   "source": [
    "len(clean_message_no_html(data.at[7, 'MESSAGE']))"
   ]
  },
  {
   "cell_type": "markdown",
   "metadata": {},
   "source": [
    "# Apply Cleaning and Tokenisation for all emails"
   ]
  },
  {
   "cell_type": "markdown",
   "metadata": {},
   "source": [
    "### Slicing Dataframes and Series & Creating Subsets"
   ]
  },
  {
   "cell_type": "code",
   "execution_count": 56,
   "metadata": {},
   "outputs": [
    {
     "data": {
      "text/plain": [
       "\"1) Fight The Risk of Cancer!\\n\\nhttp://www.adclick.ws/p.cfm?o=315&s=pk007\\n\\n\\n\\n2) Slim Down - Guaranteed to lose 10-12 lbs in 30 days\\n\\nhttp://www.adclick.ws/p.cfm?o=249&s=pk007\\n\\n\\n\\n3) Get the Child Support You Deserve - Free Legal Advice\\n\\nhttp://www.adclick.ws/p.cfm?o=245&s=pk002\\n\\n\\n\\n4) Join the Web's Fastest Growing Singles Community\\n\\nhttp://www.adclick.ws/p.cfm?o=259&s=pk007\\n\\n\\n\\n5) Start Your Private Photo Album Online!\\n\\nhttp://www.adclick.ws/p.cfm?o=283&s=pk007\\n\\n\\n\\nHave a Wonderful Day,\\n\\nOffer Manager\\n\\nPrizeMama\\n\\n\\n\\n\\n\\n\\n\\n\\n\\n\\n\\n\\n\\n\\n\\n\\n\\n\\n\\n\\n\\n\\n\\n\\n\\n\\n\\nIf you wish to leave this list please use the link below.\\n\\nhttp://www.qves.com/trim/?zzzz@spamassassin.taint.org%7C17%7C308417\\n\\n\\n\""
      ]
     },
     "execution_count": 56,
     "metadata": {},
     "output_type": "execute_result"
    }
   ],
   "source": [
    "data.iat[2, 1]"
   ]
  },
  {
   "cell_type": "code",
   "execution_count": 57,
   "metadata": {},
   "outputs": [
    {
     "data": {
      "text/html": [
       "<div>\n",
       "<style scoped>\n",
       "    .dataframe tbody tr th:only-of-type {\n",
       "        vertical-align: middle;\n",
       "    }\n",
       "\n",
       "    .dataframe tbody tr th {\n",
       "        vertical-align: top;\n",
       "    }\n",
       "\n",
       "    .dataframe thead th {\n",
       "        text-align: right;\n",
       "    }\n",
       "</style>\n",
       "<table border=\"1\" class=\"dataframe\">\n",
       "  <thead>\n",
       "    <tr style=\"text-align: right;\">\n",
       "      <th></th>\n",
       "      <th>CATEGORY</th>\n",
       "      <th>MESSAGE</th>\n",
       "      <th>FILE_NAME</th>\n",
       "    </tr>\n",
       "    <tr>\n",
       "      <th>DOC_ID</th>\n",
       "      <th></th>\n",
       "      <th></th>\n",
       "      <th></th>\n",
       "    </tr>\n",
       "  </thead>\n",
       "  <tbody>\n",
       "    <tr>\n",
       "      <th>5</th>\n",
       "      <td>1</td>\n",
       "      <td>A POWERHOUSE GIFTING PROGRAM You Don't Want To...</td>\n",
       "      <td>00006.5ab5620d3d7c6c0db76234556a16f6c1</td>\n",
       "    </tr>\n",
       "    <tr>\n",
       "      <th>6</th>\n",
       "      <td>1</td>\n",
       "      <td>Help wanted.  We are a 14 year old fortune 500...</td>\n",
       "      <td>00007.d8521faf753ff9ee989122f6816f87d7</td>\n",
       "    </tr>\n",
       "    <tr>\n",
       "      <th>7</th>\n",
       "      <td>1</td>\n",
       "      <td>&lt;html&gt;\\n\\n&lt;head&gt;\\n\\n&lt;title&gt;ReliaQuote - Save U...</td>\n",
       "      <td>00008.dfd941deb10f5eed78b1594b131c9266</td>\n",
       "    </tr>\n",
       "    <tr>\n",
       "      <th>8</th>\n",
       "      <td>1</td>\n",
       "      <td>TIRED OF THE BULL OUT THERE?\\n\\nWant To Stop L...</td>\n",
       "      <td>00009.027bf6e0b0c4ab34db3ce0ea4bf2edab</td>\n",
       "    </tr>\n",
       "  </tbody>\n",
       "</table>\n",
       "</div>"
      ],
      "text/plain": [
       "        CATEGORY                                            MESSAGE  \\\n",
       "DOC_ID                                                                \n",
       "5              1  A POWERHOUSE GIFTING PROGRAM You Don't Want To...   \n",
       "6              1  Help wanted.  We are a 14 year old fortune 500...   \n",
       "7              1  <html>\\n\\n<head>\\n\\n<title>ReliaQuote - Save U...   \n",
       "8              1  TIRED OF THE BULL OUT THERE?\\n\\nWant To Stop L...   \n",
       "\n",
       "                                     FILE_NAME  \n",
       "DOC_ID                                          \n",
       "5       00006.5ab5620d3d7c6c0db76234556a16f6c1  \n",
       "6       00007.d8521faf753ff9ee989122f6816f87d7  \n",
       "7       00008.dfd941deb10f5eed78b1594b131c9266  \n",
       "8       00009.027bf6e0b0c4ab34db3ce0ea4bf2edab  "
      ]
     },
     "execution_count": 57,
     "metadata": {},
     "output_type": "execute_result"
    }
   ],
   "source": [
    "data.iloc[5:9]"
   ]
  },
  {
   "cell_type": "code",
   "execution_count": 58,
   "metadata": {},
   "outputs": [
    {
     "data": {
      "text/plain": [
       "DOC_ID\n",
       "0    <!DOCTYPE HTML PUBLIC \"-//W3C//DTD HTML 4.0 Tr...\n",
       "1    1) Fight The Risk of Cancer!\\n\\nhttp://www.adc...\n",
       "2    1) Fight The Risk of Cancer!\\n\\nhttp://www.adc...\n",
       "Name: MESSAGE, dtype: object"
      ]
     },
     "execution_count": 58,
     "metadata": {},
     "output_type": "execute_result"
    }
   ],
   "source": [
    "data.MESSAGE.iloc[0:3]"
   ]
  },
  {
   "cell_type": "code",
   "execution_count": 59,
   "metadata": {},
   "outputs": [],
   "source": [
    "first_emails = data.MESSAGE.iloc[0:3]\n",
    "\n",
    "nested_list = first_emails.apply(clean_message_no_html)"
   ]
  },
  {
   "cell_type": "code",
   "execution_count": 60,
   "metadata": {},
   "outputs": [
    {
     "data": {
      "text/plain": [
       "192"
      ]
     },
     "execution_count": 60,
     "metadata": {},
     "output_type": "execute_result"
    }
   ],
   "source": [
    "# flat_list = []\n",
    "# for sublist in nested_list:\n",
    "#     for item in sublist:\n",
    "#         flat_list.append(item)\n",
    "\n",
    "flat_list = [item for sublist in nested_list for item in sublist]\n",
    "\n",
    "len(flat_list)"
   ]
  },
  {
   "cell_type": "code",
   "execution_count": 61,
   "metadata": {},
   "outputs": [
    {
     "data": {
      "text/plain": [
       "['save',\n",
       " 'life',\n",
       " 'insur',\n",
       " 'spend',\n",
       " 'life',\n",
       " 'quot',\n",
       " 'save',\n",
       " 'g',\n",
       " 'famili',\n",
       " 'financi',\n",
       " 'secur',\n",
       " 'import',\n",
       " 'life',\n",
       " 'quot',\n",
       " 'save',\n",
       " 'ke',\n",
       " 'buy',\n",
       " 'life',\n",
       " 'insur',\n",
       " 'simpl',\n",
       " 'afford',\n",
       " 'provid',\n",
       " 'free',\n",
       " 'access',\n",
       " 'best',\n",
       " 'compani',\n",
       " 'lowest',\n",
       " 'rate',\n",
       " 'life',\n",
       " 'quot',\n",
       " 'save',\n",
       " 'fast',\n",
       " 'save',\n",
       " 'money',\n",
       " 'let',\n",
       " 'us',\n",
       " 'help',\n",
       " 'get',\n",
       " 'start',\n",
       " 'best',\n",
       " 'ue',\n",
       " 'countri',\n",
       " 'new',\n",
       " 'coverag',\n",
       " 'save',\n",
       " 'hundr',\n",
       " 'even',\n",
       " 'usand',\n",
       " 'dollar',\n",
       " 'request',\n",
       " 'free',\n",
       " 'quot',\n",
       " 'lifequot',\n",
       " 'save',\n",
       " 'servic',\n",
       " 'take',\n",
       " 'less',\n",
       " 'minut',\n",
       " 'complet',\n",
       " 'shop',\n",
       " 'compar',\n",
       " 'save',\n",
       " 'type',\n",
       " 'life',\n",
       " 'insur',\n",
       " 'click',\n",
       " 'free',\n",
       " 'quot',\n",
       " 'protect',\n",
       " 'famili',\n",
       " 'best',\n",
       " 'invest',\n",
       " 'r',\n",
       " 'make',\n",
       " 'receipt',\n",
       " 'email',\n",
       " 'error',\n",
       " 'wish',\n",
       " 'remov',\n",
       " 'list',\n",
       " 'pleas',\n",
       " 'click',\n",
       " 'type',\n",
       " 'remov',\n",
       " 'resid',\n",
       " 'state',\n",
       " 'prohibit',\n",
       " 'solicit',\n",
       " 'ce',\n",
       " 'pleas',\n",
       " 'disregard',\n",
       " 'email',\n",
       " 'fight',\n",
       " 'risk',\n",
       " 'cancer',\n",
       " 'http',\n",
       " 'slim',\n",
       " 'guarante',\n",
       " 'lose',\n",
       " 'lb',\n",
       " 'day',\n",
       " 'http',\n",
       " 'get',\n",
       " 'child',\n",
       " 'support',\n",
       " 'deserv',\n",
       " 'free',\n",
       " 'legal',\n",
       " 'advic',\n",
       " 'http',\n",
       " 'join',\n",
       " 'web',\n",
       " 'fastest',\n",
       " 'grow',\n",
       " 'singl',\n",
       " 'commun',\n",
       " 'http',\n",
       " 'start',\n",
       " 'privat',\n",
       " 'photo',\n",
       " 'album',\n",
       " 'onlin',\n",
       " 'http',\n",
       " 'wonder',\n",
       " 'day',\n",
       " 'offer',\n",
       " 'manag',\n",
       " 'prizemama',\n",
       " 'wish',\n",
       " 'leav',\n",
       " 'list',\n",
       " 'pleas',\n",
       " 'use',\n",
       " 'link',\n",
       " 'http',\n",
       " 'ilug',\n",
       " 'irish',\n",
       " 'linux',\n",
       " 'user',\n",
       " 'group',\n",
       " 'ilug',\n",
       " 'http',\n",
       " 'un',\n",
       " 'subscript',\n",
       " 'inform',\n",
       " 'list',\n",
       " 'maintain',\n",
       " 'listmast',\n",
       " 'fight',\n",
       " 'risk',\n",
       " 'cancer',\n",
       " 'http',\n",
       " 'slim',\n",
       " 'guarante',\n",
       " 'lose',\n",
       " 'lb',\n",
       " 'day',\n",
       " 'http',\n",
       " 'get',\n",
       " 'child',\n",
       " 'support',\n",
       " 'deserv',\n",
       " 'free',\n",
       " 'legal',\n",
       " 'advic',\n",
       " 'http',\n",
       " 'join',\n",
       " 'web',\n",
       " 'fastest',\n",
       " 'grow',\n",
       " 'singl',\n",
       " 'commun',\n",
       " 'http',\n",
       " 'start',\n",
       " 'privat',\n",
       " 'photo',\n",
       " 'album',\n",
       " 'onlin',\n",
       " 'http',\n",
       " 'wonder',\n",
       " 'day',\n",
       " 'offer',\n",
       " 'manag',\n",
       " 'prizemama',\n",
       " 'wish',\n",
       " 'leav',\n",
       " 'list',\n",
       " 'pleas',\n",
       " 'use',\n",
       " 'link',\n",
       " 'http',\n",
       " 'zzzz']"
      ]
     },
     "execution_count": 61,
     "metadata": {},
     "output_type": "execute_result"
    }
   ],
   "source": [
    "flat_list"
   ]
  },
  {
   "cell_type": "code",
   "execution_count": 62,
   "metadata": {},
   "outputs": [
    {
     "data": {
      "text/plain": [
       "list"
      ]
     },
     "execution_count": 62,
     "metadata": {},
     "output_type": "execute_result"
    }
   ],
   "source": [
    "type(flat_list)"
   ]
  },
  {
   "cell_type": "code",
   "execution_count": 63,
   "metadata": {},
   "outputs": [
    {
     "name": "stderr",
     "output_type": "stream",
     "text": [
      "C:\\Users\\Vinh\\Anaconda3\\lib\\site-packages\\bs4\\__init__.py:282: UserWarning: \"http://www.post-gazette.com/columnists/20020905brian5\n",
      "\" looks like a URL. Beautiful Soup is not an HTTP client. You should probably use an HTTP client like requests to get the document behind the URL, and feed that document to Beautiful Soup.\n",
      "  ' that document to Beautiful Soup.' % decoded_markup\n"
     ]
    },
    {
     "name": "stdout",
     "output_type": "stream",
     "text": [
      "Wall time: 43.8 s\n"
     ]
    }
   ],
   "source": [
    "%%time\n",
    "\n",
    "# use apply() to all the messages in dataframe\n",
    "nested_list = data.MESSAGE.apply(clean_message_no_html)"
   ]
  },
  {
   "cell_type": "code",
   "execution_count": 64,
   "metadata": {},
   "outputs": [
    {
     "data": {
      "text/plain": [
       "DOC_ID\n",
       "0    [save, life, insur, spend, life, quot, save, g...\n",
       "1    [fight, risk, cancer, http, slim, guarante, lo...\n",
       "2    [fight, risk, cancer, http, slim, guarante, lo...\n",
       "3    [adult, club, offer, free, membership, instant...\n",
       "4    [thought, might, like, slim, guarante, lose, l...\n",
       "Name: MESSAGE, dtype: object"
      ]
     },
     "execution_count": 64,
     "metadata": {},
     "output_type": "execute_result"
    }
   ],
   "source": [
    "nested_list.head()"
   ]
  },
  {
   "cell_type": "markdown",
   "metadata": {},
   "source": [
    "### Using logic to slice Dataframes"
   ]
  },
  {
   "cell_type": "code",
   "execution_count": 69,
   "metadata": {},
   "outputs": [
    {
     "data": {
      "text/plain": [
       "(1896, 3)"
      ]
     },
     "execution_count": 69,
     "metadata": {},
     "output_type": "execute_result"
    }
   ],
   "source": [
    "data[data.CATEGORY == 1].shape"
   ]
  },
  {
   "cell_type": "code",
   "execution_count": 72,
   "metadata": {},
   "outputs": [],
   "source": [
    "doc_ids_spam = data[data.CATEGORY == 1].index\n",
    "doc_ids_ham = data[data.CATEGORY == 0].index"
   ]
  },
  {
   "cell_type": "code",
   "execution_count": 73,
   "metadata": {},
   "outputs": [
    {
     "data": {
      "text/plain": [
       "Int64Index([1896, 1897, 1898, 1899, 1900, 1901, 1902, 1903, 1904, 1905,\n",
       "            ...\n",
       "            5786, 5787, 5788, 5789, 5790, 5791, 5792, 5793, 5794, 5795],\n",
       "           dtype='int64', name='DOC_ID', length=3900)"
      ]
     },
     "execution_count": 73,
     "metadata": {},
     "output_type": "execute_result"
    }
   ],
   "source": [
    "doc_ids_ham"
   ]
  },
  {
   "cell_type": "markdown",
   "metadata": {},
   "source": [
    "### Subsetting Series with index"
   ]
  },
  {
   "cell_type": "code",
   "execution_count": 74,
   "metadata": {},
   "outputs": [
    {
     "data": {
      "text/plain": [
       "pandas.core.series.Series"
      ]
     },
     "execution_count": 74,
     "metadata": {},
     "output_type": "execute_result"
    }
   ],
   "source": [
    "type(nested_list)"
   ]
  },
  {
   "cell_type": "code",
   "execution_count": 75,
   "metadata": {},
   "outputs": [
    {
     "data": {
      "text/plain": [
       "pandas.core.indexes.numeric.Int64Index"
      ]
     },
     "execution_count": 75,
     "metadata": {},
     "output_type": "execute_result"
    }
   ],
   "source": [
    "type(doc_ids_ham)"
   ]
  },
  {
   "cell_type": "code",
   "execution_count": 87,
   "metadata": {},
   "outputs": [],
   "source": [
    "nested_list_ham = nested_list.loc[doc_ids_ham]\n",
    "nested_list_spam = nested_list.loc[doc_ids_spam]"
   ]
  },
  {
   "cell_type": "code",
   "execution_count": 117,
   "metadata": {},
   "outputs": [
    {
     "data": {
      "text/plain": [
       "20774"
      ]
     },
     "execution_count": 117,
     "metadata": {},
     "output_type": "execute_result"
    }
   ],
   "source": [
    "flat_list_ham = [item for sublist in nested_list_ham for item in sublist]\n",
    "normal_words = pd.Series(flat_list_ham).value_counts()\n",
    "normal_words.shape[0] #number of unique words in non-spam message"
   ]
  },
  {
   "cell_type": "code",
   "execution_count": 119,
   "metadata": {},
   "outputs": [
    {
     "data": {
      "text/plain": [
       "http      7551\n",
       "use       3623\n",
       "list      2875\n",
       "one       2368\n",
       "get       2283\n",
       "mail      2255\n",
       "would     2002\n",
       "like      1927\n",
       "messag    1847\n",
       "work      1795\n",
       "dtype: int64"
      ]
     },
     "execution_count": 119,
     "metadata": {},
     "output_type": "execute_result"
    }
   ],
   "source": [
    "normal_words[:10]"
   ]
  },
  {
   "cell_type": "code",
   "execution_count": 121,
   "metadata": {},
   "outputs": [
    {
     "data": {
      "text/plain": [
       "13297"
      ]
     },
     "execution_count": 121,
     "metadata": {},
     "output_type": "execute_result"
    }
   ],
   "source": [
    "flat_list_spam = [item for sublist in nested_list_spam for item in sublist]\n",
    "spammy_words = pd.Series(flat_list_spam).value_counts()\n",
    "spammy_words.shape[0] #number of unique words in non-spam message"
   ]
  },
  {
   "cell_type": "code",
   "execution_count": 122,
   "metadata": {},
   "outputs": [
    {
     "data": {
      "text/plain": [
       "http      3099\n",
       "email     3092\n",
       "free      2554\n",
       "click     2056\n",
       "receiv    1987\n",
       "list      1970\n",
       "get       1903\n",
       "pleas     1840\n",
       "busi      1792\n",
       "order     1743\n",
       "dtype: int64"
      ]
     },
     "execution_count": 122,
     "metadata": {},
     "output_type": "execute_result"
    }
   ],
   "source": [
    "spammy_words[:10]"
   ]
  },
  {
   "cell_type": "code",
   "execution_count": 105,
   "metadata": {},
   "outputs": [
    {
     "data": {
      "text/plain": [
       "16117489"
      ]
     },
     "execution_count": 105,
     "metadata": {},
     "output_type": "execute_result"
    }
   ],
   "source": [
    "flat_list = [item for list in data.MESSAGE for item in list]\n",
    "all_words = len(flat_list)\n",
    "all_words"
   ]
  },
  {
   "cell_type": "code",
   "execution_count": 102,
   "metadata": {},
   "outputs": [
    {
     "data": {
      "text/plain": [
       "820"
      ]
     },
     "execution_count": 102,
     "metadata": {},
     "output_type": "execute_result"
    }
   ],
   "source": []
  },
  {
   "cell_type": "code",
   "execution_count": null,
   "metadata": {},
   "outputs": [],
   "source": []
  },
  {
   "cell_type": "code",
   "execution_count": null,
   "metadata": {},
   "outputs": [],
   "source": []
  }
 ],
 "metadata": {
  "kernelspec": {
   "display_name": "Python 3",
   "language": "python",
   "name": "python3"
  },
  "language_info": {
   "codemirror_mode": {
    "name": "ipython",
    "version": 3
   },
   "file_extension": ".py",
   "mimetype": "text/x-python",
   "name": "python",
   "nbconvert_exporter": "python",
   "pygments_lexer": "ipython3",
   "version": "3.6.5"
  }
 },
 "nbformat": 4,
 "nbformat_minor": 2
}
